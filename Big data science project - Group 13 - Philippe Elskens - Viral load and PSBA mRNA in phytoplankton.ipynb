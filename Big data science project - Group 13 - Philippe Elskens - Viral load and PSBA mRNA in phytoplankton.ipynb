{
 "cells": [
  {
   "cell_type": "markdown",
   "metadata": {},
   "source": [
    "# I. Import modules"
   ]
  },
  {
   "cell_type": "code",
   "execution_count": 1,
   "metadata": {},
   "outputs": [],
   "source": [
    "import pandas as pd\n",
    "import seaborn as sns\n",
    "import matplotlib.pyplot as plt\n",
    "import numpy as np\n",
    "import statsmodels.api as sm\n",
    "from math import sqrt\n",
    "from statsmodels.stats.outliers_influence import variance_inflation_factor\n",
    "from time import time\n",
    "from scipy import stats\n",
    "from statistics import median\n",
    "from sklearn.preprocessing import StandardScaler, PolynomialFeatures\n",
    "from sklearn.model_selection import train_test_split, KFold, GridSearchCV, LeaveOneGroupOut, GroupKFold, cross_val_score\n",
    "from sklearn.linear_model import LinearRegression, Ridge, Lasso, ElasticNet\n",
    "from sklearn.metrics import mean_absolute_error, mean_squared_error\n",
    "from sklearn.feature_selection import SelectFromModel\n",
    "from sklearn.ensemble import RandomForestRegressor\n",
    "from sklearn.decomposition import PCA\n",
    "from sklearn.neural_network import MLPRegressor\n",
    "from sklearn.neighbors import KNeighborsRegressor\n",
    "from sklearn.svm import SVR\n",
    "\n",
    "pd.set_option(\"display.max_columns\", None)"
   ]
  },
  {
   "cell_type": "markdown",
   "metadata": {},
   "source": [
    "# II. Data exploration"
   ]
  },
  {
   "cell_type": "code",
   "execution_count": 2,
   "metadata": {
    "scrolled": true
   },
   "outputs": [
    {
     "name": "stdout",
     "output_type": "stream",
     "text": [
      "There are\u001b[1m 0 \u001b[0mduplicates.\n"
     ]
    },
    {
     "data": {
      "text/html": [
       "<div>\n",
       "<style scoped>\n",
       "    .dataframe tbody tr th:only-of-type {\n",
       "        vertical-align: middle;\n",
       "    }\n",
       "\n",
       "    .dataframe tbody tr th {\n",
       "        vertical-align: top;\n",
       "    }\n",
       "\n",
       "    .dataframe thead th {\n",
       "        text-align: right;\n",
       "    }\n",
       "</style>\n",
       "<table border=\"1\" class=\"dataframe\">\n",
       "  <thead>\n",
       "    <tr style=\"text-align: right;\">\n",
       "      <th></th>\n",
       "      <th>Unnamed: 0</th>\n",
       "      <th>replicate</th>\n",
       "      <th>timepoint</th>\n",
       "      <th>Area_M01</th>\n",
       "      <th>Area_M06</th>\n",
       "      <th>Aspect Ratio_M01</th>\n",
       "      <th>Aspect Ratio_M06</th>\n",
       "      <th>Aspect Ratio Intensity_M01_BF</th>\n",
       "      <th>Aspect Ratio Intensity_M06_SSC</th>\n",
       "      <th>Modulation_M01_BF</th>\n",
       "      <th>Modulation_M06_SSC</th>\n",
       "      <th>Contrast_M01_BF</th>\n",
       "      <th>Contrast_M06_SSC</th>\n",
       "      <th>Gradient RMS_M01_BF</th>\n",
       "      <th>Gradient RMS_M06_SSC</th>\n",
       "      <th>Mean Pixel_M01_BF</th>\n",
       "      <th>Mean Pixel_M06_SSC</th>\n",
       "      <th>Median Pixel_M01_BF</th>\n",
       "      <th>Median Pixel_M06_SSC</th>\n",
       "      <th>Length_M01</th>\n",
       "      <th>Length_M06</th>\n",
       "      <th>Width_M01</th>\n",
       "      <th>Width_M06</th>\n",
       "      <th>Height_M01</th>\n",
       "      <th>Height_M06</th>\n",
       "      <th>Saturation Count_M01_BF</th>\n",
       "      <th>Saturation Count_M06_SSC</th>\n",
       "      <th>Saturation Percent_M01_BF</th>\n",
       "      <th>Saturation Percent_M06_SSC</th>\n",
       "      <th>Similarity_M01_Ch02_Ch03</th>\n",
       "      <th>output_viral</th>\n",
       "      <th>output_psba</th>\n",
       "    </tr>\n",
       "  </thead>\n",
       "  <tbody>\n",
       "    <tr>\n",
       "      <th>data type</th>\n",
       "      <td>int64</td>\n",
       "      <td>int64</td>\n",
       "      <td>int64</td>\n",
       "      <td>float64</td>\n",
       "      <td>float64</td>\n",
       "      <td>float64</td>\n",
       "      <td>float64</td>\n",
       "      <td>float64</td>\n",
       "      <td>float64</td>\n",
       "      <td>float64</td>\n",
       "      <td>float64</td>\n",
       "      <td>float64</td>\n",
       "      <td>float64</td>\n",
       "      <td>float64</td>\n",
       "      <td>float64</td>\n",
       "      <td>float64</td>\n",
       "      <td>float64</td>\n",
       "      <td>float64</td>\n",
       "      <td>float64</td>\n",
       "      <td>float64</td>\n",
       "      <td>float64</td>\n",
       "      <td>float64</td>\n",
       "      <td>float64</td>\n",
       "      <td>float64</td>\n",
       "      <td>float64</td>\n",
       "      <td>float64</td>\n",
       "      <td>float64</td>\n",
       "      <td>float64</td>\n",
       "      <td>float64</td>\n",
       "      <td>float64</td>\n",
       "      <td>float64</td>\n",
       "      <td>float64</td>\n",
       "    </tr>\n",
       "    <tr>\n",
       "      <th>missing values</th>\n",
       "      <td>0</td>\n",
       "      <td>0</td>\n",
       "      <td>0</td>\n",
       "      <td>0</td>\n",
       "      <td>0</td>\n",
       "      <td>0</td>\n",
       "      <td>0</td>\n",
       "      <td>0</td>\n",
       "      <td>0</td>\n",
       "      <td>0</td>\n",
       "      <td>0</td>\n",
       "      <td>0</td>\n",
       "      <td>0</td>\n",
       "      <td>0</td>\n",
       "      <td>0</td>\n",
       "      <td>0</td>\n",
       "      <td>0</td>\n",
       "      <td>0</td>\n",
       "      <td>0</td>\n",
       "      <td>0</td>\n",
       "      <td>0</td>\n",
       "      <td>0</td>\n",
       "      <td>0</td>\n",
       "      <td>0</td>\n",
       "      <td>0</td>\n",
       "      <td>0</td>\n",
       "      <td>0</td>\n",
       "      <td>0</td>\n",
       "      <td>0</td>\n",
       "      <td>0</td>\n",
       "      <td>0</td>\n",
       "      <td>0</td>\n",
       "    </tr>\n",
       "    <tr>\n",
       "      <th>count</th>\n",
       "      <td>290496</td>\n",
       "      <td>290496</td>\n",
       "      <td>290496</td>\n",
       "      <td>290496</td>\n",
       "      <td>290496</td>\n",
       "      <td>290496</td>\n",
       "      <td>290496</td>\n",
       "      <td>290496</td>\n",
       "      <td>290496</td>\n",
       "      <td>290496</td>\n",
       "      <td>290496</td>\n",
       "      <td>290496</td>\n",
       "      <td>290496</td>\n",
       "      <td>290496</td>\n",
       "      <td>290496</td>\n",
       "      <td>290496</td>\n",
       "      <td>290496</td>\n",
       "      <td>290496</td>\n",
       "      <td>290496</td>\n",
       "      <td>290496</td>\n",
       "      <td>290496</td>\n",
       "      <td>290496</td>\n",
       "      <td>290496</td>\n",
       "      <td>290496</td>\n",
       "      <td>290496</td>\n",
       "      <td>290496</td>\n",
       "      <td>290496</td>\n",
       "      <td>290496</td>\n",
       "      <td>290496</td>\n",
       "      <td>290496</td>\n",
       "      <td>290496</td>\n",
       "      <td>290496</td>\n",
       "    </tr>\n",
       "    <tr>\n",
       "      <th>0</th>\n",
       "      <td>4</td>\n",
       "      <td>1</td>\n",
       "      <td>0</td>\n",
       "      <td>23.3333</td>\n",
       "      <td>8.44444</td>\n",
       "      <td>0.88908</td>\n",
       "      <td>0.723376</td>\n",
       "      <td>0.81477</td>\n",
       "      <td>0.647845</td>\n",
       "      <td>0.0857143</td>\n",
       "      <td>0.266667</td>\n",
       "      <td>1.4309</td>\n",
       "      <td>42.8254</td>\n",
       "      <td>58.3867</td>\n",
       "      <td>37.2124</td>\n",
       "      <td>-0.0369048</td>\n",
       "      <td>14.731</td>\n",
       "      <td>-6.33214</td>\n",
       "      <td>13.2179</td>\n",
       "      <td>5.66667</td>\n",
       "      <td>3.66667</td>\n",
       "      <td>5</td>\n",
       "      <td>2.66667</td>\n",
       "      <td>5.66667</td>\n",
       "      <td>3.66667</td>\n",
       "      <td>0</td>\n",
       "      <td>0</td>\n",
       "      <td>0</td>\n",
       "      <td>0</td>\n",
       "      <td>0.733362</td>\n",
       "      <td>-1263.33</td>\n",
       "      <td>51540.9</td>\n",
       "    </tr>\n",
       "    <tr>\n",
       "      <th>1</th>\n",
       "      <td>15</td>\n",
       "      <td>1</td>\n",
       "      <td>0</td>\n",
       "      <td>26.4444</td>\n",
       "      <td>14.2222</td>\n",
       "      <td>0.952983</td>\n",
       "      <td>0.533022</td>\n",
       "      <td>0.827753</td>\n",
       "      <td>0.524853</td>\n",
       "      <td>0.101124</td>\n",
       "      <td>0.634286</td>\n",
       "      <td>1.99703</td>\n",
       "      <td>267.993</td>\n",
       "      <td>60.9043</td>\n",
       "      <td>43.3637</td>\n",
       "      <td>0.541885</td>\n",
       "      <td>29.15</td>\n",
       "      <td>-3.60938</td>\n",
       "      <td>15.8688</td>\n",
       "      <td>5.66667</td>\n",
       "      <td>6</td>\n",
       "      <td>5.66667</td>\n",
       "      <td>3.33333</td>\n",
       "      <td>5.66667</td>\n",
       "      <td>6</td>\n",
       "      <td>0</td>\n",
       "      <td>0</td>\n",
       "      <td>0</td>\n",
       "      <td>0</td>\n",
       "      <td>1.86956</td>\n",
       "      <td>-1757.93</td>\n",
       "      <td>52686.7</td>\n",
       "    </tr>\n",
       "    <tr>\n",
       "      <th>2</th>\n",
       "      <td>18</td>\n",
       "      <td>1</td>\n",
       "      <td>0</td>\n",
       "      <td>30</td>\n",
       "      <td>16.3333</td>\n",
       "      <td>0.920297</td>\n",
       "      <td>0.552871</td>\n",
       "      <td>0.874341</td>\n",
       "      <td>0.328934</td>\n",
       "      <td>0.10987</td>\n",
       "      <td>0.610063</td>\n",
       "      <td>1.79933</td>\n",
       "      <td>274.141</td>\n",
       "      <td>56.7948</td>\n",
       "      <td>48.2439</td>\n",
       "      <td>1.58654</td>\n",
       "      <td>23.4964</td>\n",
       "      <td>-3.2468</td>\n",
       "      <td>13.8365</td>\n",
       "      <td>6.33333</td>\n",
       "      <td>6</td>\n",
       "      <td>6</td>\n",
       "      <td>3.66667</td>\n",
       "      <td>6.33333</td>\n",
       "      <td>6</td>\n",
       "      <td>0</td>\n",
       "      <td>0</td>\n",
       "      <td>0</td>\n",
       "      <td>0</td>\n",
       "      <td>1.05397</td>\n",
       "      <td>-2387.08</td>\n",
       "      <td>46909.6</td>\n",
       "    </tr>\n",
       "    <tr>\n",
       "      <th>3</th>\n",
       "      <td>23</td>\n",
       "      <td>1</td>\n",
       "      <td>0</td>\n",
       "      <td>33.4444</td>\n",
       "      <td>22.5556</td>\n",
       "      <td>0.970458</td>\n",
       "      <td>0.558474</td>\n",
       "      <td>0.8494</td>\n",
       "      <td>0.549093</td>\n",
       "      <td>0.089196</td>\n",
       "      <td>0.590062</td>\n",
       "      <td>1.82124</td>\n",
       "      <td>295.625</td>\n",
       "      <td>60.0009</td>\n",
       "      <td>44.0879</td>\n",
       "      <td>1.50062</td>\n",
       "      <td>28.3466</td>\n",
       "      <td>-2.99107</td>\n",
       "      <td>19.9673</td>\n",
       "      <td>6.33333</td>\n",
       "      <td>7</td>\n",
       "      <td>6.33333</td>\n",
       "      <td>4</td>\n",
       "      <td>6.33333</td>\n",
       "      <td>7</td>\n",
       "      <td>0</td>\n",
       "      <td>0</td>\n",
       "      <td>0</td>\n",
       "      <td>0</td>\n",
       "      <td>1.58101</td>\n",
       "      <td>-2913.64</td>\n",
       "      <td>71265.9</td>\n",
       "    </tr>\n",
       "    <tr>\n",
       "      <th>4</th>\n",
       "      <td>25</td>\n",
       "      <td>1</td>\n",
       "      <td>0</td>\n",
       "      <td>21.3333</td>\n",
       "      <td>11.2222</td>\n",
       "      <td>0.917762</td>\n",
       "      <td>0.800643</td>\n",
       "      <td>0.817675</td>\n",
       "      <td>0.722305</td>\n",
       "      <td>0.0875866</td>\n",
       "      <td>0.369565</td>\n",
       "      <td>2.38026</td>\n",
       "      <td>129.256</td>\n",
       "      <td>63.8728</td>\n",
       "      <td>43.537</td>\n",
       "      <td>1.27027</td>\n",
       "      <td>12.6424</td>\n",
       "      <td>-4.22973</td>\n",
       "      <td>10.9493</td>\n",
       "      <td>5.33333</td>\n",
       "      <td>4</td>\n",
       "      <td>5</td>\n",
       "      <td>3.33333</td>\n",
       "      <td>5.33333</td>\n",
       "      <td>4</td>\n",
       "      <td>0</td>\n",
       "      <td>0</td>\n",
       "      <td>0</td>\n",
       "      <td>0</td>\n",
       "      <td>1.21549</td>\n",
       "      <td>-1059.5</td>\n",
       "      <td>26822.2</td>\n",
       "    </tr>\n",
       "  </tbody>\n",
       "</table>\n",
       "</div>"
      ],
      "text/plain": [
       "               Unnamed: 0 replicate timepoint Area_M01 Area_M06  \\\n",
       "data type           int64     int64     int64  float64  float64   \n",
       "missing values          0         0         0        0        0   \n",
       "count              290496    290496    290496   290496   290496   \n",
       "0                       4         1         0  23.3333  8.44444   \n",
       "1                      15         1         0  26.4444  14.2222   \n",
       "2                      18         1         0       30  16.3333   \n",
       "3                      23         1         0  33.4444  22.5556   \n",
       "4                      25         1         0  21.3333  11.2222   \n",
       "\n",
       "               Aspect Ratio_M01 Aspect Ratio_M06  \\\n",
       "data type               float64          float64   \n",
       "missing values                0                0   \n",
       "count                    290496           290496   \n",
       "0                       0.88908         0.723376   \n",
       "1                      0.952983         0.533022   \n",
       "2                      0.920297         0.552871   \n",
       "3                      0.970458         0.558474   \n",
       "4                      0.917762         0.800643   \n",
       "\n",
       "               Aspect Ratio Intensity_M01_BF Aspect Ratio Intensity_M06_SSC  \\\n",
       "data type                            float64                        float64   \n",
       "missing values                             0                              0   \n",
       "count                                 290496                         290496   \n",
       "0                                    0.81477                       0.647845   \n",
       "1                                   0.827753                       0.524853   \n",
       "2                                   0.874341                       0.328934   \n",
       "3                                     0.8494                       0.549093   \n",
       "4                                   0.817675                       0.722305   \n",
       "\n",
       "               Modulation_M01_BF Modulation_M06_SSC Contrast_M01_BF  \\\n",
       "data type                float64            float64         float64   \n",
       "missing values                 0                  0               0   \n",
       "count                     290496             290496          290496   \n",
       "0                      0.0857143           0.266667          1.4309   \n",
       "1                       0.101124           0.634286         1.99703   \n",
       "2                        0.10987           0.610063         1.79933   \n",
       "3                       0.089196           0.590062         1.82124   \n",
       "4                      0.0875866           0.369565         2.38026   \n",
       "\n",
       "               Contrast_M06_SSC Gradient RMS_M01_BF Gradient RMS_M06_SSC  \\\n",
       "data type               float64             float64              float64   \n",
       "missing values                0                   0                    0   \n",
       "count                    290496              290496               290496   \n",
       "0                       42.8254             58.3867              37.2124   \n",
       "1                       267.993             60.9043              43.3637   \n",
       "2                       274.141             56.7948              48.2439   \n",
       "3                       295.625             60.0009              44.0879   \n",
       "4                       129.256             63.8728               43.537   \n",
       "\n",
       "               Mean Pixel_M01_BF Mean Pixel_M06_SSC Median Pixel_M01_BF  \\\n",
       "data type                float64            float64             float64   \n",
       "missing values                 0                  0                   0   \n",
       "count                     290496             290496              290496   \n",
       "0                     -0.0369048             14.731            -6.33214   \n",
       "1                       0.541885              29.15            -3.60938   \n",
       "2                        1.58654            23.4964             -3.2468   \n",
       "3                        1.50062            28.3466            -2.99107   \n",
       "4                        1.27027            12.6424            -4.22973   \n",
       "\n",
       "               Median Pixel_M06_SSC Length_M01 Length_M06 Width_M01 Width_M06  \\\n",
       "data type                   float64    float64    float64   float64   float64   \n",
       "missing values                    0          0          0         0         0   \n",
       "count                        290496     290496     290496    290496    290496   \n",
       "0                           13.2179    5.66667    3.66667         5   2.66667   \n",
       "1                           15.8688    5.66667          6   5.66667   3.33333   \n",
       "2                           13.8365    6.33333          6         6   3.66667   \n",
       "3                           19.9673    6.33333          7   6.33333         4   \n",
       "4                           10.9493    5.33333          4         5   3.33333   \n",
       "\n",
       "               Height_M01 Height_M06 Saturation Count_M01_BF  \\\n",
       "data type         float64    float64                 float64   \n",
       "missing values          0          0                       0   \n",
       "count              290496     290496                  290496   \n",
       "0                 5.66667    3.66667                       0   \n",
       "1                 5.66667          6                       0   \n",
       "2                 6.33333          6                       0   \n",
       "3                 6.33333          7                       0   \n",
       "4                 5.33333          4                       0   \n",
       "\n",
       "               Saturation Count_M06_SSC Saturation Percent_M01_BF  \\\n",
       "data type                       float64                   float64   \n",
       "missing values                        0                         0   \n",
       "count                            290496                    290496   \n",
       "0                                     0                         0   \n",
       "1                                     0                         0   \n",
       "2                                     0                         0   \n",
       "3                                     0                         0   \n",
       "4                                     0                         0   \n",
       "\n",
       "               Saturation Percent_M06_SSC Similarity_M01_Ch02_Ch03  \\\n",
       "data type                         float64                  float64   \n",
       "missing values                          0                        0   \n",
       "count                              290496                   290496   \n",
       "0                                       0                 0.733362   \n",
       "1                                       0                  1.86956   \n",
       "2                                       0                  1.05397   \n",
       "3                                       0                  1.58101   \n",
       "4                                       0                  1.21549   \n",
       "\n",
       "               output_viral output_psba  \n",
       "data type           float64     float64  \n",
       "missing values            0           0  \n",
       "count                290496      290496  \n",
       "0                  -1263.33     51540.9  \n",
       "1                  -1757.93     52686.7  \n",
       "2                  -2387.08     46909.6  \n",
       "3                  -2913.64     71265.9  \n",
       "4                   -1059.5     26822.2  "
      ]
     },
     "execution_count": 2,
     "metadata": {},
     "output_type": "execute_result"
    }
   ],
   "source": [
    "with open('phytoplankton.csv', mode='r') as file:\n",
    "    df = pd.read_csv(file)\n",
    "    \n",
    "print('There are' + '\\033[1m', df.duplicated().sum(), '\\033[0m' + 'duplicates.')\n",
    "pd.concat([pd.DataFrame(df.dtypes, columns=['data type']).transpose(), \\\n",
    "           pd.DataFrame(df.isnull().sum(), columns=['missing values']).transpose(), \\\n",
    "           pd.DataFrame(df.describe().loc['count']).transpose(),\\\n",
    "           df.head(n=5)])"
   ]
  },
  {
   "cell_type": "markdown",
   "metadata": {},
   "source": [
    "# III. Descriptive statistics\n",
    "## 1. Univariate\n",
    "### 1.1 Summary"
   ]
  },
  {
   "cell_type": "code",
   "execution_count": null,
   "metadata": {},
   "outputs": [],
   "source": [
    "pd.concat([df.describe().drop('count'),\\\n",
    "           pd.DataFrame(df.skew(), columns=['skewness']).transpose(),\\\n",
    "           pd.DataFrame(df.kurtosis(), columns=['kurtosis']).transpose()]).round(2)"
   ]
  },
  {
   "cell_type": "markdown",
   "metadata": {},
   "source": [
    "### 1.2 Plots"
   ]
  },
  {
   "cell_type": "code",
   "execution_count": null,
   "metadata": {},
   "outputs": [],
   "source": [
    "tic = time()\n",
    "\n",
    "for column in df:\n",
    "    f, (ax_box, ax_hist) = plt.subplots(2, sharex=True, gridspec_kw={\"height_ratios\": (.15, .85)})\n",
    "    sns.boxplot(data=df, x=column, ax=ax_box)\n",
    "    sns.histplot(data=df, x=column, kde=True, ax=ax_hist)\n",
    "    ax_box.set(xlabel='')\n",
    "    plt.show()\n",
    "    \n",
    "toc = time()\n",
    "print(f\"Done in {toc - tic:.3f}s\")"
   ]
  },
  {
   "cell_type": "markdown",
   "metadata": {},
   "source": [
    "## 2. Bivariate\n",
    "### 2.1 Correlation"
   ]
  },
  {
   "cell_type": "code",
   "execution_count": null,
   "metadata": {},
   "outputs": [],
   "source": [
    "display(df.corr().round(2))\n",
    "\n",
    "fig, heat = plt.subplots(figsize=(20,10))\n",
    "heat = sns.heatmap(df.corr(), annot=True)\n",
    "plt.show()"
   ]
  },
  {
   "cell_type": "markdown",
   "metadata": {},
   "source": [
    "### 2.2 Plots"
   ]
  },
  {
   "cell_type": "code",
   "execution_count": null,
   "metadata": {},
   "outputs": [],
   "source": [
    "Z = df[['timepoint', 'Mean Pixel_M01_BF', 'Mean Pixel_M06_SSC', 'Similarity_M01_Ch02_Ch03',\\\n",
    "        'Modulation_M06_SSC', 'Area_M01', 'Width_M01', 'output_viral', 'output_psba']]\n",
    "\n",
    "tic = time()\n",
    "\n",
    "g = sns.PairGrid(Z)\n",
    "g.map_upper(sns.scatterplot)\n",
    "g.map_lower(sns.kdeplot, cmap = \"Blues_d\")\n",
    "g.map_diag(sns.histplot, kde=True)\n",
    "plt.show()\n",
    "\n",
    "toc = time()\n",
    "print(f\"Done in {toc - tic:.3f}s\")"
   ]
  },
  {
   "cell_type": "code",
   "execution_count": null,
   "metadata": {},
   "outputs": [],
   "source": [
    "tic = time()\n",
    "\n",
    "for column in df:\n",
    "    fig, ax = plt.subplots(nrows=1, ncols=2)\n",
    "    plt.subplot(1, 2, 1)\n",
    "    sns.scatterplot(data=df, x=column, y=\"output_viral\")\n",
    "    plt.xlabel(column)\n",
    "    plt.ylabel(\"output_viral\")\n",
    "    plt.subplot(1, 2, 2)\n",
    "    sns.scatterplot(data=df, x=column, y=\"output_psba\")\n",
    "    plt.xlabel(column)\n",
    "    plt.ylabel(\"output_psba\")\n",
    "    plt.show()\n",
    "    \n",
    "toc = time()\n",
    "print(f\"Done in {toc - tic:.3f}s\")"
   ]
  },
  {
   "cell_type": "markdown",
   "metadata": {},
   "source": [
    "# IV. Data preparation"
   ]
  },
  {
   "cell_type": "code",
   "execution_count": 24,
   "metadata": {},
   "outputs": [
    {
     "name": "stdout",
     "output_type": "stream",
     "text": [
      "(array([], dtype=int64),)\n",
      "The dimensions of the \u001b[4mfeatures\u001b[0m are: (290495, 27)\n",
      "The dimensions of the target \u001b[4mviral load\u001b[0m are: (290495,)\n",
      "The dimensions of the target \u001b[4mPSBA mRNA\u001b[0m are: (290495,)\n"
     ]
    }
   ],
   "source": [
    "# Find and remove outlier\n",
    "print(np.where(df['output_viral']>100000))\n",
    "df = df.drop([3230])\n",
    "\n",
    "# Assign features and targets\n",
    "X = df.drop(['Unnamed: 0', 'Saturation Count_M01_BF', 'Saturation Percent_M01_BF', 'output_viral', 'output_psba'], axis = 1)\n",
    "Y_viral = df['output_viral']\n",
    "Y_psba = df['output_psba']\n",
    "Replicates = df['replicate']\n",
    "\n",
    "# Smaller subset for computationally demanding methods\n",
    "DF = df.sample(n=50000)\n",
    "x = DF.drop(['Unnamed: 0', 'output_viral', 'output_psba'], axis = 1)\n",
    "y_viral = DF['output_viral']\n",
    "y_psba = DF['output_psba']\n",
    "replicates = DF['replicate']\n",
    "\n",
    "print('The dimensions of the ' + '\\033[4m' + 'features' + '\\033[0m' + ' are:', np.shape(X))\n",
    "print('The dimensions of the target ' + '\\033[4m' + 'viral load' + '\\033[0m' + ' are:', np.shape(Y_viral))\n",
    "print('The dimensions of the target ' + '\\033[4m' + 'PSBA mRNA' + '\\033[0m' + ' are:', np.shape(Y_psba))"
   ]
  },
  {
   "cell_type": "markdown",
   "metadata": {},
   "source": [
    "# V. Model building\n",
    "## 1. Linear regression \n",
    "### 1.1 Function"
   ]
  },
  {
   "cell_type": "code",
   "execution_count": 27,
   "metadata": {},
   "outputs": [],
   "source": [
    "def LinReg(X, Y, method=LinearRegression, coef='Yes', Replicates=Replicates):\n",
    "    tic = time()\n",
    "    \n",
    "    # Initialize\n",
    "    count=0\n",
    "    performance = pd.DataFrame(index=['Mean absolute error', 'Mean squared error', \\\n",
    "                                      'Root mean squared error', 'R\\u00b2 (%)', \\\n",
    "                                      'Adjusted R\\u00b2 (%)', 'Mean absolute percentage error (%)'])\n",
    "    if coef=='Yes':\n",
    "        coefficients = pd.DataFrame(index = np.insert(X.columns, 0, 'Intercept'))\n",
    "\n",
    "    # Split and standardize data\n",
    "    logo = LeaveOneGroupOut()\n",
    "    for train_index, test_index in logo.split(X, Y, Replicates):\n",
    "        count+=1\n",
    "        X_train, X_test = X.to_numpy()[train_index], X.to_numpy()[test_index]\n",
    "        scaler = StandardScaler()\n",
    "        X_train_scaled = scaler.fit_transform(X_train)\n",
    "        X_test_scaled = scaler.transform(X_test)\n",
    "        Y_train, Y_test = Y.to_numpy()[train_index], Y.to_numpy()[test_index]\n",
    "        Replicates_train, Replicates_test = Replicates.to_numpy()[train_index],\\\n",
    "                                            Replicates.to_numpy()[test_index]\n",
    "        \n",
    "        # Optimized hyperparameters\n",
    "        if method is LinearRegression:\n",
    "            Model = LinearRegression()\n",
    "        elif method is Ridge or method is Lasso:\n",
    "            hyperparameters = {\"alpha\": 10**np.linspace(10,-2,10)*0.5} \n",
    "            gkf=GroupKFold(n_splits=2)\n",
    "            Grid = GridSearchCV(method(), hyperparameters, scoring='r2', cv=gkf, verbose=0, n_jobs=-1)\n",
    "            Grid.fit(X_train_scaled, Y_train, Replicates_train)\n",
    "            Model = method(alpha = Grid.best_params_['alpha'])\n",
    "        elif method is ElasticNet:\n",
    "            hyperparameters = {\"alpha\": 10**np.linspace(10,-2,10)*0.5, \\\n",
    "                               \"l1_ratio\": np.arange(0, 1, 0.1)}\n",
    "            gkf=GroupKFold(n_splits=2)\n",
    "            Grid = GridSearchCV(method(), hyperparameters, scoring='r2', cv=gkf, verbose=3, n_jobs=-1)\n",
    "            Grid.fit(X_train_scaled, Y_train, Replicates_train)\n",
    "            Model = method(alpha=Grid.best_params_['alpha'], \\\n",
    "                                 l1_ratio=Grid.best_params_['l1_ratio'])\n",
    "            \n",
    "        # Build model and predict\n",
    "        Model.fit(X_train_scaled, Y_train)\n",
    "        Y_pred = Model.predict(X_test_scaled)\n",
    "        residuals = Y_pred - Y_test\n",
    "\n",
    "        # Coefficients\n",
    "        if coef=='Yes':\n",
    "            coefficients[count] = np.insert(Model.coef_, 0, Model.intercept_)\n",
    "    \n",
    "        # Performance\n",
    "        mae = mean_absolute_error(Y_test, Y_pred)\n",
    "        mse = mean_squared_error(Y_test, Y_pred)\n",
    "        rmse = np.sqrt(mse)\n",
    "        R2 = Model.score(X_test_scaled, Y_test)\n",
    "        adjusted_R2 = 1-((1-R2)*(len(Y_test)-1)/(len(Y_test)-X_test_scaled.shape[1]-1))\n",
    "        mape = np.mean(np.abs((Y_test - Y_pred) / Y_test))\n",
    "        performance[count] = [mae, mse, rmse, R2*100, adjusted_R2*100, mape*100] \n",
    "        \n",
    "        # Output\n",
    "        if method is not LinearRegression:\n",
    "            print(f\"\\033[1mλ: \\033[0m{np.round(Grid.best_params_['alpha'], 1)}\")\n",
    "        if method is ElasticNet:\n",
    "            print(f\"\\033[1mα: \\033[0m{Grid.best_params_['l1_ratio']}\")\n",
    "    toc = time()\n",
    "    print(f\"Done in {toc - tic:.3f}s\")\n",
    "    performance_average = pd.DataFrame(performance.mean(axis='columns'), columns=['Mean'])\n",
    "    performance_average['Std'] = performance.std(axis='columns')\n",
    "    display(performance_average) \n",
    "    if coef=='Yes':\n",
    "        coefficients_average = pd.DataFrame(coefficients.mean(axis='columns'), columns=['Mean'])\n",
    "        coefficients_average['Std'] = coefficients.std(axis='columns')\n",
    "        display(coefficients_average)    \n",
    "    return residuals, Model"
   ]
  },
  {
   "cell_type": "markdown",
   "metadata": {},
   "source": [
    "### 1.2 Baseline models with all features\n",
    "##### A. Performance and coefficients"
   ]
  },
  {
   "cell_type": "code",
   "execution_count": 28,
   "metadata": {},
   "outputs": [
    {
     "name": "stdout",
     "output_type": "stream",
     "text": [
      "Done in 8.200s\n"
     ]
    },
    {
     "data": {
      "text/html": [
       "<div>\n",
       "<style scoped>\n",
       "    .dataframe tbody tr th:only-of-type {\n",
       "        vertical-align: middle;\n",
       "    }\n",
       "\n",
       "    .dataframe tbody tr th {\n",
       "        vertical-align: top;\n",
       "    }\n",
       "\n",
       "    .dataframe thead th {\n",
       "        text-align: right;\n",
       "    }\n",
       "</style>\n",
       "<table border=\"1\" class=\"dataframe\">\n",
       "  <thead>\n",
       "    <tr style=\"text-align: right;\">\n",
       "      <th></th>\n",
       "      <th>Mean</th>\n",
       "      <th>Std</th>\n",
       "    </tr>\n",
       "  </thead>\n",
       "  <tbody>\n",
       "    <tr>\n",
       "      <th>Mean absolute error</th>\n",
       "      <td>4.607602e+03</td>\n",
       "      <td>3.790402e+02</td>\n",
       "    </tr>\n",
       "    <tr>\n",
       "      <th>Mean squared error</th>\n",
       "      <td>4.082820e+07</td>\n",
       "      <td>7.099462e+06</td>\n",
       "    </tr>\n",
       "    <tr>\n",
       "      <th>Root mean squared error</th>\n",
       "      <td>6.372669e+03</td>\n",
       "      <td>5.709097e+02</td>\n",
       "    </tr>\n",
       "    <tr>\n",
       "      <th>R² (%)</th>\n",
       "      <td>2.729120e+01</td>\n",
       "      <td>2.865610e+00</td>\n",
       "    </tr>\n",
       "    <tr>\n",
       "      <th>Adjusted R² (%)</th>\n",
       "      <td>2.727019e+01</td>\n",
       "      <td>2.867588e+00</td>\n",
       "    </tr>\n",
       "    <tr>\n",
       "      <th>Mean absolute percentage error (%)</th>\n",
       "      <td>8.883939e+02</td>\n",
       "      <td>5.514519e+02</td>\n",
       "    </tr>\n",
       "  </tbody>\n",
       "</table>\n",
       "</div>"
      ],
      "text/plain": [
       "                                            Mean           Std\n",
       "Mean absolute error                 4.607602e+03  3.790402e+02\n",
       "Mean squared error                  4.082820e+07  7.099462e+06\n",
       "Root mean squared error             6.372669e+03  5.709097e+02\n",
       "R² (%)                              2.729120e+01  2.865610e+00\n",
       "Adjusted R² (%)                     2.727019e+01  2.867588e+00\n",
       "Mean absolute percentage error (%)  8.883939e+02  5.514519e+02"
      ]
     },
     "metadata": {},
     "output_type": "display_data"
    },
    {
     "data": {
      "text/html": [
       "<div>\n",
       "<style scoped>\n",
       "    .dataframe tbody tr th:only-of-type {\n",
       "        vertical-align: middle;\n",
       "    }\n",
       "\n",
       "    .dataframe tbody tr th {\n",
       "        vertical-align: top;\n",
       "    }\n",
       "\n",
       "    .dataframe thead th {\n",
       "        text-align: right;\n",
       "    }\n",
       "</style>\n",
       "<table border=\"1\" class=\"dataframe\">\n",
       "  <thead>\n",
       "    <tr style=\"text-align: right;\">\n",
       "      <th></th>\n",
       "      <th>Mean</th>\n",
       "      <th>Std</th>\n",
       "    </tr>\n",
       "  </thead>\n",
       "  <tbody>\n",
       "    <tr>\n",
       "      <th>Intercept</th>\n",
       "      <td>3039.915808</td>\n",
       "      <td>313.361263</td>\n",
       "    </tr>\n",
       "    <tr>\n",
       "      <th>replicate</th>\n",
       "      <td>-752.657273</td>\n",
       "      <td>364.480795</td>\n",
       "    </tr>\n",
       "    <tr>\n",
       "      <th>timepoint</th>\n",
       "      <td>3432.053839</td>\n",
       "      <td>534.037392</td>\n",
       "    </tr>\n",
       "    <tr>\n",
       "      <th>Area_M01</th>\n",
       "      <td>135.913044</td>\n",
       "      <td>176.514316</td>\n",
       "    </tr>\n",
       "    <tr>\n",
       "      <th>Area_M06</th>\n",
       "      <td>-525.871067</td>\n",
       "      <td>133.255757</td>\n",
       "    </tr>\n",
       "    <tr>\n",
       "      <th>Aspect Ratio_M01</th>\n",
       "      <td>472.492886</td>\n",
       "      <td>13.371792</td>\n",
       "    </tr>\n",
       "    <tr>\n",
       "      <th>Aspect Ratio_M06</th>\n",
       "      <td>-212.211126</td>\n",
       "      <td>15.462832</td>\n",
       "    </tr>\n",
       "    <tr>\n",
       "      <th>Aspect Ratio Intensity_M01_BF</th>\n",
       "      <td>-167.953092</td>\n",
       "      <td>35.214607</td>\n",
       "    </tr>\n",
       "    <tr>\n",
       "      <th>Aspect Ratio Intensity_M06_SSC</th>\n",
       "      <td>476.261475</td>\n",
       "      <td>21.438074</td>\n",
       "    </tr>\n",
       "    <tr>\n",
       "      <th>Modulation_M01_BF</th>\n",
       "      <td>-1.477018</td>\n",
       "      <td>71.009861</td>\n",
       "    </tr>\n",
       "    <tr>\n",
       "      <th>Modulation_M06_SSC</th>\n",
       "      <td>456.627975</td>\n",
       "      <td>46.101764</td>\n",
       "    </tr>\n",
       "    <tr>\n",
       "      <th>Contrast_M01_BF</th>\n",
       "      <td>-509.960835</td>\n",
       "      <td>129.245543</td>\n",
       "    </tr>\n",
       "    <tr>\n",
       "      <th>Contrast_M06_SSC</th>\n",
       "      <td>192.946948</td>\n",
       "      <td>111.171953</td>\n",
       "    </tr>\n",
       "    <tr>\n",
       "      <th>Gradient RMS_M01_BF</th>\n",
       "      <td>-167.922433</td>\n",
       "      <td>131.864122</td>\n",
       "    </tr>\n",
       "    <tr>\n",
       "      <th>Gradient RMS_M06_SSC</th>\n",
       "      <td>893.318841</td>\n",
       "      <td>54.521750</td>\n",
       "    </tr>\n",
       "    <tr>\n",
       "      <th>Mean Pixel_M01_BF</th>\n",
       "      <td>-2666.154759</td>\n",
       "      <td>80.921095</td>\n",
       "    </tr>\n",
       "    <tr>\n",
       "      <th>Mean Pixel_M06_SSC</th>\n",
       "      <td>-1185.748408</td>\n",
       "      <td>138.320492</td>\n",
       "    </tr>\n",
       "    <tr>\n",
       "      <th>Median Pixel_M01_BF</th>\n",
       "      <td>-363.511570</td>\n",
       "      <td>61.155210</td>\n",
       "    </tr>\n",
       "    <tr>\n",
       "      <th>Median Pixel_M06_SSC</th>\n",
       "      <td>-179.803874</td>\n",
       "      <td>77.506069</td>\n",
       "    </tr>\n",
       "    <tr>\n",
       "      <th>Length_M01</th>\n",
       "      <td>-1128.074314</td>\n",
       "      <td>419.297071</td>\n",
       "    </tr>\n",
       "    <tr>\n",
       "      <th>Length_M06</th>\n",
       "      <td>852.906543</td>\n",
       "      <td>175.478737</td>\n",
       "    </tr>\n",
       "    <tr>\n",
       "      <th>Width_M01</th>\n",
       "      <td>-5.138003</td>\n",
       "      <td>130.312169</td>\n",
       "    </tr>\n",
       "    <tr>\n",
       "      <th>Width_M06</th>\n",
       "      <td>643.992957</td>\n",
       "      <td>52.299958</td>\n",
       "    </tr>\n",
       "    <tr>\n",
       "      <th>Height_M01</th>\n",
       "      <td>1434.235531</td>\n",
       "      <td>518.184777</td>\n",
       "    </tr>\n",
       "    <tr>\n",
       "      <th>Height_M06</th>\n",
       "      <td>-289.944689</td>\n",
       "      <td>53.515341</td>\n",
       "    </tr>\n",
       "    <tr>\n",
       "      <th>Saturation Count_M06_SSC</th>\n",
       "      <td>-193.152634</td>\n",
       "      <td>41.807984</td>\n",
       "    </tr>\n",
       "    <tr>\n",
       "      <th>Saturation Percent_M06_SSC</th>\n",
       "      <td>252.092339</td>\n",
       "      <td>18.292564</td>\n",
       "    </tr>\n",
       "    <tr>\n",
       "      <th>Similarity_M01_Ch02_Ch03</th>\n",
       "      <td>-1192.207506</td>\n",
       "      <td>262.835970</td>\n",
       "    </tr>\n",
       "  </tbody>\n",
       "</table>\n",
       "</div>"
      ],
      "text/plain": [
       "                                       Mean         Std\n",
       "Intercept                       3039.915808  313.361263\n",
       "replicate                       -752.657273  364.480795\n",
       "timepoint                       3432.053839  534.037392\n",
       "Area_M01                         135.913044  176.514316\n",
       "Area_M06                        -525.871067  133.255757\n",
       "Aspect Ratio_M01                 472.492886   13.371792\n",
       "Aspect Ratio_M06                -212.211126   15.462832\n",
       "Aspect Ratio Intensity_M01_BF   -167.953092   35.214607\n",
       "Aspect Ratio Intensity_M06_SSC   476.261475   21.438074\n",
       "Modulation_M01_BF                 -1.477018   71.009861\n",
       "Modulation_M06_SSC               456.627975   46.101764\n",
       "Contrast_M01_BF                 -509.960835  129.245543\n",
       "Contrast_M06_SSC                 192.946948  111.171953\n",
       "Gradient RMS_M01_BF             -167.922433  131.864122\n",
       "Gradient RMS_M06_SSC             893.318841   54.521750\n",
       "Mean Pixel_M01_BF              -2666.154759   80.921095\n",
       "Mean Pixel_M06_SSC             -1185.748408  138.320492\n",
       "Median Pixel_M01_BF             -363.511570   61.155210\n",
       "Median Pixel_M06_SSC            -179.803874   77.506069\n",
       "Length_M01                     -1128.074314  419.297071\n",
       "Length_M06                       852.906543  175.478737\n",
       "Width_M01                         -5.138003  130.312169\n",
       "Width_M06                        643.992957   52.299958\n",
       "Height_M01                      1434.235531  518.184777\n",
       "Height_M06                      -289.944689   53.515341\n",
       "Saturation Count_M06_SSC        -193.152634   41.807984\n",
       "Saturation Percent_M06_SSC       252.092339   18.292564\n",
       "Similarity_M01_Ch02_Ch03       -1192.207506  262.835970"
      ]
     },
     "metadata": {},
     "output_type": "display_data"
    }
   ],
   "source": [
    "# Viral\n",
    "residuals_viral, LinReg_viral= LinReg(X, Y_viral)"
   ]
  },
  {
   "cell_type": "code",
   "execution_count": null,
   "metadata": {},
   "outputs": [],
   "source": [
    "# PSBA\n",
    "residuals_psba, LinReg_psba= LinReg(X, Y_psba)"
   ]
  },
  {
   "cell_type": "markdown",
   "metadata": {},
   "source": [
    "##### B. Diagnostics\n",
    "###### 1. QQ plot"
   ]
  },
  {
   "cell_type": "code",
   "execution_count": null,
   "metadata": {},
   "outputs": [],
   "source": [
    "fig, (ax_viral, ax_psba) = plt.subplots(nrows=1, ncols=2, figsize=(10,5))\n",
    "fig = sm.graphics.qqplot(residuals_viral, dist=stats.norm, line='45', fit=True, ax=ax_viral)\n",
    "ax_viral.set_title('Viral load')\n",
    "fig = sm.graphics.qqplot(residuals_psba, dist=stats.norm, line='45', fit=True, ax=ax_psba)\n",
    "ax_psba.set_title('PSBA mRNA')\n",
    "plt.show()"
   ]
  },
  {
   "cell_type": "markdown",
   "metadata": {},
   "source": [
    "###### 2. Variance Inflation Factor"
   ]
  },
  {
   "cell_type": "code",
   "execution_count": null,
   "metadata": {},
   "outputs": [],
   "source": [
    "scaler = StandardScaler()\n",
    "X_scaled = scaler.fit_transform(X)\n",
    "pd.DataFrame([variance_inflation_factor(X_scaled, i) for i in range(len(X.columns))], \n",
    "             columns=['VIF'], index = X.columns).round(1)"
   ]
  },
  {
   "cell_type": "markdown",
   "metadata": {},
   "source": [
    "###### 3. Residual plots and regression line"
   ]
  },
  {
   "cell_type": "code",
   "execution_count": null,
   "metadata": {
    "scrolled": true
   },
   "outputs": [],
   "source": [
    "tic = time()\n",
    "\n",
    "for variable in X_test:\n",
    "    fig, ax = plt.subplots(nrows=1, ncols=4, figsize=(18,5))\n",
    "    plt.subplot(1, 4, 1)\n",
    "    sns.residplot(x=X_test[variable], y=Y_viral_test)\n",
    "    plt.subplot(1, 4, 2)\n",
    "    sns.regplot(x=X_test[variable], y=Y_viral_test, fit_reg=True, line_kws={'color':'green'})\n",
    "    plt.subplot(1, 4, 3)\n",
    "    sns.residplot(x=X_test[variable], y=Y_psba_test)\n",
    "    plt.subplot(1, 4, 4)\n",
    "    sns.regplot(x=X_test[variable], y=Y_psba_test, fit_reg=True, line_kws={'color':'green'})\n",
    "    plt.show()\n",
    "\n",
    "toc = time()\n",
    "print(f\"Done in {toc - tic:.3f}s\")"
   ]
  },
  {
   "cell_type": "markdown",
   "metadata": {},
   "source": [
    "### 1.3 Transformed targets\n",
    "##### A. Transformation"
   ]
  },
  {
   "cell_type": "code",
   "execution_count": null,
   "metadata": {},
   "outputs": [],
   "source": [
    "tic = time()\n",
    "\n",
    "Y_viral_positive = Y_viral + abs(np.min(Y_viral)) + 0.001\n",
    "Y_psba_positive = Y_psba + abs(np.min(Y_psba)) + 0.001                                         \n",
    "\n",
    "# Log\n",
    "Y_viral_log = np.log(Y_viral_positive)\n",
    "Y_psba_log = np.log(Y_psba_positive)                                       \n",
    "\n",
    "# Square root\n",
    "Y_viral_sqrt = np.sqrt(Y_viral_positive)\n",
    "Y_psba_sqrt = np.sqrt(Y_psba_positive)\n",
    "\n",
    "# Cubic root\n",
    "Y_viral_cbrt = np.cbrt(Y_viral_positive)\n",
    "Y_psba_cbrt = np.cbrt(Y_psba_positive)\n",
    "\n",
    "toc = time()\n",
    "print(f\"Done in {toc - tic:.3f}s\")"
   ]
  },
  {
   "cell_type": "code",
   "execution_count": null,
   "metadata": {},
   "outputs": [],
   "source": [
    "moments = [[Y_viral.skew(), Y_viral.kurtosis()],\\\n",
    "           [Y_viral_log.skew(), Y_viral_log.kurtosis()],\\\n",
    "           [Y_viral_sqrt.skew(), Y_viral_sqrt.kurtosis()],\\\n",
    "           [Y_viral_cbrt.skew(), Y_viral_cbrt.kurtosis()],\\\n",
    "           [Y_psba.skew(), Y_psba.kurtosis()],\\\n",
    "           [Y_psba_log.skew(), Y_psba_log.kurtosis()],\\\n",
    "           [Y_psba_sqrt.skew(), Y_psba_sqrt.kurtosis()],\\\n",
    "           [Y_psba_cbrt.skew(), Y_psba_cbrt.kurtosis()]]\n",
    "index = ['Viral untransformed', 'Viral log', 'Viral Sqrt', 'Viral Cbrt', 'PSBA untransformed', 'PSBA log', 'PSBA sqrt', 'PSBA cbrt']\n",
    "skewkurt = pd.DataFrame(moments, columns =['Skewness', 'Kurtosis'], index=index)\n",
    "display(skewkurt)"
   ]
  },
  {
   "cell_type": "code",
   "execution_count": null,
   "metadata": {},
   "outputs": [],
   "source": [
    "# Histograms of transformed targets\n",
    "fig, ax = plt.subplots(nrows=1, ncols=4, figsize=(16,3.5))\n",
    "plt.suptitle(\"Viral load\", fontsize=15)\n",
    "plt.subplot(1, 4, 1)\n",
    "sns.histplot(x=Y_viral, kde=True)\n",
    "plt.title(\"Untransformed\", fontsize=10)\n",
    "plt.ylabel('')\n",
    "plt.subplot(1, 4, 2)\n",
    "sns.histplot(x=Y_viral_log, kde=True)\n",
    "plt.title(\"Log\", fontsize=10)\n",
    "plt.ylabel('')\n",
    "plt.subplot(1, 4, 3)\n",
    "sns.histplot(x=Y_viral_sqrt, kde=True)\n",
    "plt.title(\"Square root\", fontsize=10)\n",
    "plt.ylabel('')\n",
    "plt.subplot(1, 4, 4)\n",
    "sns.histplot(x=Y_viral_cbrt, kde=True)\n",
    "plt.title(\"Cubic root\", fontsize=10)\n",
    "plt.ylabel('')\n",
    "plt.show()\n",
    "\n",
    "fig, ax = plt.subplots(nrows=1, ncols=4, figsize=(16,3.5))\n",
    "plt.suptitle(\"PSBA mRNA\", fontsize=15)\n",
    "plt.subplot(1, 4, 1)\n",
    "sns.histplot(x=Y_psba, kde=True)\n",
    "plt.title(\"Untransformed\", fontsize=10)\n",
    "plt.ylabel('')\n",
    "plt.subplot(1, 4, 2)\n",
    "sns.histplot(x=Y_psba_log, kde=True)\n",
    "plt.title(\"Log\", fontsize=10)\n",
    "plt.ylabel('')\n",
    "plt.subplot(1, 4, 3)\n",
    "sns.histplot(x=Y_psba_sqrt, kde=True)\n",
    "plt.title(\"Square root\", fontsize=10)\n",
    "plt.ylabel('')\n",
    "plt.subplot(1, 4, 4)\n",
    "sns.histplot(x=Y_psba_cbrt, kde=True)\n",
    "plt.title(\"Cubic root\", fontsize=10)\n",
    "plt.ylabel('')\n",
    "plt.show()"
   ]
  },
  {
   "cell_type": "markdown",
   "metadata": {},
   "source": [
    "##### B. Performance"
   ]
  },
  {
   "cell_type": "code",
   "execution_count": null,
   "metadata": {},
   "outputs": [],
   "source": [
    "# Viral\n",
    "print( '\\033[1m' + '\\033[4m' + 'Untransformed targets' + '\\033[0m')\n",
    "residuals_viral, LinReg_viral = LinReg(X, Y_viral, coef='No')\n",
    "\n",
    "print('\\033[1m' + '\\033[4m' + 'Log transformed targets' + '\\033[0m')\n",
    "residuals_viral_log, LinReg_viral_log = LinReg(X, Y_viral_log, coef='No')\n",
    "\n",
    "print('\\033[1m' + '\\033[4m' + 'Square root transformed targets' + '\\033[0m')\n",
    "residuals_viral_sqrt, LinReg_viral_sqrt = LinReg(X, Y_viral_sqrt, coef='No')\n",
    "\n",
    "print('\\033[1m' + '\\033[4m' + 'Cubic root transformed targets' + '\\033[0m')\n",
    "residuals_viral_cbrt, LinReg_viral_cbrt = LinReg(X, Y_viral_cbrt, coef='No')"
   ]
  },
  {
   "cell_type": "code",
   "execution_count": null,
   "metadata": {},
   "outputs": [],
   "source": [
    "# PSBA\n",
    "print( '\\033[1m' + '\\033[4m' + 'Untransformed targets' + '\\033[0m')\n",
    "residuals_psba, LinReg_psba = LinReg(X, Y_psba, coef='No')\n",
    "\n",
    "print('\\033[1m' + '\\033[4m' + 'Log transformed targets' + '\\033[0m')\n",
    "residuals_psba_log, LinReg_psba_log = LinReg(X, Y_psba_log, coef='No')\n",
    "\n",
    "print('\\033[1m' + '\\033[4m' + 'Square root transformed targets' + '\\033[0m')\n",
    "residuals_psba_sqrt, LinReg_psba_sqrt = LinReg(X, Y_psba_sqrt, coef='No')\n",
    "\n",
    "print('\\033[1m' + '\\033[4m' + 'Cubic root transformed targets' + '\\033[0m')\n",
    "residuals_psba_cbrt, LinReg_psba_cbrt = LinReg(X, Y_psba_cbrt, coef='No')"
   ]
  },
  {
   "cell_type": "markdown",
   "metadata": {},
   "source": [
    "##### C. Diagnostics\n",
    "###### 1. QQ plots"
   ]
  },
  {
   "cell_type": "code",
   "execution_count": null,
   "metadata": {},
   "outputs": [],
   "source": [
    "fig, (ax_untransformed, ax_log, ax_sqrt, ax_cbrt) = plt.subplots(nrows=1, ncols=4, figsize=(16,3.5))\n",
    "plt.suptitle('QQ plot Viral load')\n",
    "fig = sm.graphics.qqplot(residuals_viral, dist=stats.norm, line='45', fit=True, ax=ax_untransformed)\n",
    "ax_untransformed.set_title('Untransformed')\n",
    "fig = sm.graphics.qqplot(residuals_viral_log, dist=stats.norm, line='45', fit=True, ax=ax_log)\n",
    "ax_log.set_title('Log')\n",
    "fig = sm.graphics.qqplot(residuals_viral_sqrt, dist=stats.norm, line='45', fit=True, ax=ax_sqrt)\n",
    "ax_sqrt.set_title('Square root')\n",
    "fig = sm.graphics.qqplot(residuals_viral_cbrt, dist=stats.norm, line='45', fit=True, ax=ax_cbrt)\n",
    "ax_cbrt.set_title('Cubic root')\n",
    "plt.show()\n",
    "\n",
    "fig, (ax_untransformed, ax_log, ax_sqrt, ax_cbrt) = plt.subplots(nrows=1, ncols=4, figsize=(16,3.5))\n",
    "plt.suptitle('QQ plot PSBA mRNA')\n",
    "fig = sm.graphics.qqplot(residuals_psba, dist=stats.norm, line='45', fit=True, ax=ax_untransformed)\n",
    "ax_untransformed.set_title('Untransformed')\n",
    "fig = sm.graphics.qqplot(residuals_psba_log, dist=stats.norm, line='45', fit=True, ax=ax_log)\n",
    "ax_log.set_title('Log')\n",
    "fig = sm.graphics.qqplot(residuals_psba_sqrt, dist=stats.norm, line='45', fit=True, ax=ax_sqrt)\n",
    "ax_sqrt.set_title('Square root')\n",
    "fig = sm.graphics.qqplot(residuals_psba_cbrt, dist=stats.norm, line='45', fit=True, ax=ax_cbrt)\n",
    "ax_cbrt.set_title('Cubic root')\n",
    "plt.show()"
   ]
  },
  {
   "cell_type": "markdown",
   "metadata": {},
   "source": [
    "### 1.4 Dimension reduction\n",
    "#### 1.4.1 Regularization\n",
    "#### 1. Ridge\n",
    "##### A. Performance and coefficients"
   ]
  },
  {
   "cell_type": "code",
   "execution_count": 29,
   "metadata": {},
   "outputs": [
    {
     "name": "stderr",
     "output_type": "stream",
     "text": [
      "C:\\Users\\ThinkPad\\anaconda3\\lib\\site-packages\\sklearn\\utils\\validation.py:67: FutureWarning: Pass groups=[2 2 2 ... 3 3 3] as keyword args. From version 0.25 passing these as positional arguments will result in an error\n",
      "  warnings.warn(\"Pass {} as keyword args. From version 0.25 \"\n"
     ]
    },
    {
     "name": "stdout",
     "output_type": "stream",
     "text": [
      "\u001b[1mλ: \u001b[0m23207.9\n"
     ]
    },
    {
     "name": "stderr",
     "output_type": "stream",
     "text": [
      "C:\\Users\\ThinkPad\\anaconda3\\lib\\site-packages\\sklearn\\utils\\validation.py:67: FutureWarning: Pass groups=[1 1 1 ... 3 3 3] as keyword args. From version 0.25 passing these as positional arguments will result in an error\n",
      "  warnings.warn(\"Pass {} as keyword args. From version 0.25 \"\n"
     ]
    },
    {
     "name": "stdout",
     "output_type": "stream",
     "text": [
      "\u001b[1mλ: \u001b[0m23207.9\n"
     ]
    },
    {
     "name": "stderr",
     "output_type": "stream",
     "text": [
      "C:\\Users\\ThinkPad\\anaconda3\\lib\\site-packages\\sklearn\\utils\\validation.py:67: FutureWarning: Pass groups=[1 1 1 ... 2 2 2] as keyword args. From version 0.25 passing these as positional arguments will result in an error\n",
      "  warnings.warn(\"Pass {} as keyword args. From version 0.25 \"\n"
     ]
    },
    {
     "name": "stdout",
     "output_type": "stream",
     "text": [
      "\u001b[1mλ: \u001b[0m1077.2\n",
      "Done in 20.220s\n"
     ]
    },
    {
     "data": {
      "text/html": [
       "<div>\n",
       "<style scoped>\n",
       "    .dataframe tbody tr th:only-of-type {\n",
       "        vertical-align: middle;\n",
       "    }\n",
       "\n",
       "    .dataframe tbody tr th {\n",
       "        vertical-align: top;\n",
       "    }\n",
       "\n",
       "    .dataframe thead th {\n",
       "        text-align: right;\n",
       "    }\n",
       "</style>\n",
       "<table border=\"1\" class=\"dataframe\">\n",
       "  <thead>\n",
       "    <tr style=\"text-align: right;\">\n",
       "      <th></th>\n",
       "      <th>Mean</th>\n",
       "      <th>Std</th>\n",
       "    </tr>\n",
       "  </thead>\n",
       "  <tbody>\n",
       "    <tr>\n",
       "      <th>Mean absolute error</th>\n",
       "      <td>4.620577e+03</td>\n",
       "      <td>3.575220e+02</td>\n",
       "    </tr>\n",
       "    <tr>\n",
       "      <th>Mean squared error</th>\n",
       "      <td>4.135348e+07</td>\n",
       "      <td>7.280923e+06</td>\n",
       "    </tr>\n",
       "    <tr>\n",
       "      <th>Root mean squared error</th>\n",
       "      <td>6.413200e+03</td>\n",
       "      <td>5.800936e+02</td>\n",
       "    </tr>\n",
       "    <tr>\n",
       "      <th>R² (%)</th>\n",
       "      <td>2.637847e+01</td>\n",
       "      <td>2.540491e+00</td>\n",
       "    </tr>\n",
       "    <tr>\n",
       "      <th>Adjusted R² (%)</th>\n",
       "      <td>2.635724e+01</td>\n",
       "      <td>2.540571e+00</td>\n",
       "    </tr>\n",
       "    <tr>\n",
       "      <th>Mean absolute percentage error (%)</th>\n",
       "      <td>8.585545e+02</td>\n",
       "      <td>5.652528e+02</td>\n",
       "    </tr>\n",
       "  </tbody>\n",
       "</table>\n",
       "</div>"
      ],
      "text/plain": [
       "                                            Mean           Std\n",
       "Mean absolute error                 4.620577e+03  3.575220e+02\n",
       "Mean squared error                  4.135348e+07  7.280923e+06\n",
       "Root mean squared error             6.413200e+03  5.800936e+02\n",
       "R² (%)                              2.637847e+01  2.540491e+00\n",
       "Adjusted R² (%)                     2.635724e+01  2.540571e+00\n",
       "Mean absolute percentage error (%)  8.585545e+02  5.652528e+02"
      ]
     },
     "metadata": {},
     "output_type": "display_data"
    },
    {
     "data": {
      "text/html": [
       "<div>\n",
       "<style scoped>\n",
       "    .dataframe tbody tr th:only-of-type {\n",
       "        vertical-align: middle;\n",
       "    }\n",
       "\n",
       "    .dataframe tbody tr th {\n",
       "        vertical-align: top;\n",
       "    }\n",
       "\n",
       "    .dataframe thead th {\n",
       "        text-align: right;\n",
       "    }\n",
       "</style>\n",
       "<table border=\"1\" class=\"dataframe\">\n",
       "  <thead>\n",
       "    <tr style=\"text-align: right;\">\n",
       "      <th></th>\n",
       "      <th>Mean</th>\n",
       "      <th>Std</th>\n",
       "    </tr>\n",
       "  </thead>\n",
       "  <tbody>\n",
       "    <tr>\n",
       "      <th>Intercept</th>\n",
       "      <td>3039.915808</td>\n",
       "      <td>313.361263</td>\n",
       "    </tr>\n",
       "    <tr>\n",
       "      <th>replicate</th>\n",
       "      <td>-634.794484</td>\n",
       "      <td>296.338495</td>\n",
       "    </tr>\n",
       "    <tr>\n",
       "      <th>timepoint</th>\n",
       "      <td>3078.325069</td>\n",
       "      <td>797.971920</td>\n",
       "    </tr>\n",
       "    <tr>\n",
       "      <th>Area_M01</th>\n",
       "      <td>-19.543927</td>\n",
       "      <td>130.946660</td>\n",
       "    </tr>\n",
       "    <tr>\n",
       "      <th>Area_M06</th>\n",
       "      <td>-305.611117</td>\n",
       "      <td>218.011592</td>\n",
       "    </tr>\n",
       "    <tr>\n",
       "      <th>Aspect Ratio_M01</th>\n",
       "      <td>204.824888</td>\n",
       "      <td>184.768747</td>\n",
       "    </tr>\n",
       "    <tr>\n",
       "      <th>Aspect Ratio_M06</th>\n",
       "      <td>-108.328132</td>\n",
       "      <td>85.471645</td>\n",
       "    </tr>\n",
       "    <tr>\n",
       "      <th>Aspect Ratio Intensity_M01_BF</th>\n",
       "      <td>-132.716766</td>\n",
       "      <td>7.784395</td>\n",
       "    </tr>\n",
       "    <tr>\n",
       "      <th>Aspect Ratio Intensity_M06_SSC</th>\n",
       "      <td>392.113213</td>\n",
       "      <td>55.873647</td>\n",
       "    </tr>\n",
       "    <tr>\n",
       "      <th>Modulation_M01_BF</th>\n",
       "      <td>0.595073</td>\n",
       "      <td>73.033138</td>\n",
       "    </tr>\n",
       "    <tr>\n",
       "      <th>Modulation_M06_SSC</th>\n",
       "      <td>308.383677</td>\n",
       "      <td>65.191502</td>\n",
       "    </tr>\n",
       "    <tr>\n",
       "      <th>Contrast_M01_BF</th>\n",
       "      <td>-486.235652</td>\n",
       "      <td>68.714713</td>\n",
       "    </tr>\n",
       "    <tr>\n",
       "      <th>Contrast_M06_SSC</th>\n",
       "      <td>241.655601</td>\n",
       "      <td>111.235501</td>\n",
       "    </tr>\n",
       "    <tr>\n",
       "      <th>Gradient RMS_M01_BF</th>\n",
       "      <td>-78.373453</td>\n",
       "      <td>176.547869</td>\n",
       "    </tr>\n",
       "    <tr>\n",
       "      <th>Gradient RMS_M06_SSC</th>\n",
       "      <td>812.169631</td>\n",
       "      <td>94.055725</td>\n",
       "    </tr>\n",
       "    <tr>\n",
       "      <th>Mean Pixel_M01_BF</th>\n",
       "      <td>-2261.003077</td>\n",
       "      <td>288.742134</td>\n",
       "    </tr>\n",
       "    <tr>\n",
       "      <th>Mean Pixel_M06_SSC</th>\n",
       "      <td>-732.200137</td>\n",
       "      <td>283.215098</td>\n",
       "    </tr>\n",
       "    <tr>\n",
       "      <th>Median Pixel_M01_BF</th>\n",
       "      <td>-409.321830</td>\n",
       "      <td>75.934625</td>\n",
       "    </tr>\n",
       "    <tr>\n",
       "      <th>Median Pixel_M06_SSC</th>\n",
       "      <td>-297.876511</td>\n",
       "      <td>140.779330</td>\n",
       "    </tr>\n",
       "    <tr>\n",
       "      <th>Length_M01</th>\n",
       "      <td>-681.396477</td>\n",
       "      <td>358.005837</td>\n",
       "    </tr>\n",
       "    <tr>\n",
       "      <th>Length_M06</th>\n",
       "      <td>527.643728</td>\n",
       "      <td>232.084650</td>\n",
       "    </tr>\n",
       "    <tr>\n",
       "      <th>Width_M01</th>\n",
       "      <td>96.745542</td>\n",
       "      <td>173.700437</td>\n",
       "    </tr>\n",
       "    <tr>\n",
       "      <th>Width_M06</th>\n",
       "      <td>507.445326</td>\n",
       "      <td>112.141518</td>\n",
       "    </tr>\n",
       "    <tr>\n",
       "      <th>Height_M01</th>\n",
       "      <td>777.907982</td>\n",
       "      <td>642.319192</td>\n",
       "    </tr>\n",
       "    <tr>\n",
       "      <th>Height_M06</th>\n",
       "      <td>90.816048</td>\n",
       "      <td>253.816196</td>\n",
       "    </tr>\n",
       "    <tr>\n",
       "      <th>Saturation Count_M06_SSC</th>\n",
       "      <td>-148.671867</td>\n",
       "      <td>46.238962</td>\n",
       "    </tr>\n",
       "    <tr>\n",
       "      <th>Saturation Percent_M06_SSC</th>\n",
       "      <td>134.045564</td>\n",
       "      <td>73.874745</td>\n",
       "    </tr>\n",
       "    <tr>\n",
       "      <th>Similarity_M01_Ch02_Ch03</th>\n",
       "      <td>-1164.819614</td>\n",
       "      <td>239.689824</td>\n",
       "    </tr>\n",
       "  </tbody>\n",
       "</table>\n",
       "</div>"
      ],
      "text/plain": [
       "                                       Mean         Std\n",
       "Intercept                       3039.915808  313.361263\n",
       "replicate                       -634.794484  296.338495\n",
       "timepoint                       3078.325069  797.971920\n",
       "Area_M01                         -19.543927  130.946660\n",
       "Area_M06                        -305.611117  218.011592\n",
       "Aspect Ratio_M01                 204.824888  184.768747\n",
       "Aspect Ratio_M06                -108.328132   85.471645\n",
       "Aspect Ratio Intensity_M01_BF   -132.716766    7.784395\n",
       "Aspect Ratio Intensity_M06_SSC   392.113213   55.873647\n",
       "Modulation_M01_BF                  0.595073   73.033138\n",
       "Modulation_M06_SSC               308.383677   65.191502\n",
       "Contrast_M01_BF                 -486.235652   68.714713\n",
       "Contrast_M06_SSC                 241.655601  111.235501\n",
       "Gradient RMS_M01_BF              -78.373453  176.547869\n",
       "Gradient RMS_M06_SSC             812.169631   94.055725\n",
       "Mean Pixel_M01_BF              -2261.003077  288.742134\n",
       "Mean Pixel_M06_SSC              -732.200137  283.215098\n",
       "Median Pixel_M01_BF             -409.321830   75.934625\n",
       "Median Pixel_M06_SSC            -297.876511  140.779330\n",
       "Length_M01                      -681.396477  358.005837\n",
       "Length_M06                       527.643728  232.084650\n",
       "Width_M01                         96.745542  173.700437\n",
       "Width_M06                        507.445326  112.141518\n",
       "Height_M01                       777.907982  642.319192\n",
       "Height_M06                        90.816048  253.816196\n",
       "Saturation Count_M06_SSC        -148.671867   46.238962\n",
       "Saturation Percent_M06_SSC       134.045564   73.874745\n",
       "Similarity_M01_Ch02_Ch03       -1164.819614  239.689824"
      ]
     },
     "metadata": {},
     "output_type": "display_data"
    }
   ],
   "source": [
    "# Untransformed targets Viral\n",
    "residuals_viral_RidgeReg, Model_viral_RidgeReg = LinReg(X, Y_viral, method=Ridge)"
   ]
  },
  {
   "cell_type": "code",
   "execution_count": null,
   "metadata": {},
   "outputs": [],
   "source": [
    "# Untransformed targets PSBA\n",
    "residuals_psba_RidgeReg, Model_psba_RidgeReg = LinReg(X, Y_psba, method=Ridge)"
   ]
  },
  {
   "cell_type": "code",
   "execution_count": null,
   "metadata": {},
   "outputs": [],
   "source": [
    "# Cubic root transformed targets Viral\n",
    "residuals_viral_RidgeReg_cbrt, Model_viral_RidgeReg_cbrt = LinReg(X, Y_viral_cbrt, method=Ridge, coef='No')"
   ]
  },
  {
   "cell_type": "code",
   "execution_count": null,
   "metadata": {},
   "outputs": [],
   "source": [
    "# Cubic root transformed targets PSBA\n",
    "residuals_psba_RidgeReg_cbrt, Model_psba_RidgeReg_cbrt = LinReg(X, Y_psba_cbrt, method=Ridge, coef='No')"
   ]
  },
  {
   "cell_type": "markdown",
   "metadata": {},
   "source": [
    "##### B. Diagnostics\n",
    "###### 1. QQ plots"
   ]
  },
  {
   "cell_type": "code",
   "execution_count": null,
   "metadata": {},
   "outputs": [],
   "source": [
    "fig, (ax_viral, ax_psba) = plt.subplots(nrows=1, ncols=2, figsize=(10,5))\n",
    "fig = sm.graphics.qqplot(residuals_viral_RidgeReg, dist=stats.norm, line='45', fit=True, ax=ax_viral)\n",
    "ax_viral.set_title('Viral load untransformed')\n",
    "fig = sm.graphics.qqplot(residuals_viral_RidgeReg_cbrt, dist=stats.norm, line='45', fit=True, ax=ax_psba)\n",
    "ax_psba.set_title('Viral load cubic root')\n",
    "plt.show()"
   ]
  },
  {
   "cell_type": "code",
   "execution_count": null,
   "metadata": {},
   "outputs": [],
   "source": [
    "fig, (ax_viral, ax_psba) = plt.subplots(nrows=1, ncols=2, figsize=(10,5))\n",
    "fig = sm.graphics.qqplot(residuals_psba_RidgeReg, dist=stats.norm, line='45', fit=True, ax=ax_viral)\n",
    "ax_viral.set_title('PSBA mRNA untransformed')\n",
    "fig = sm.graphics.qqplot(residuals_psba_RidgeReg_cbrt, dist=stats.norm, line='45', fit=True, ax=ax_psba)\n",
    "ax_psba.set_title('PSBA mRNA cubic root')\n",
    "plt.show()"
   ]
  },
  {
   "cell_type": "markdown",
   "metadata": {},
   "source": [
    "#### 2. Lasso\n",
    "##### A. Performance and coefficients"
   ]
  },
  {
   "cell_type": "code",
   "execution_count": null,
   "metadata": {},
   "outputs": [],
   "source": [
    "# Untransformed targets Viral\n",
    "residuals_viral_LassoReg, LassoReg_viral = LinReg(X, Y_viral, method=Lasso)"
   ]
  },
  {
   "cell_type": "code",
   "execution_count": null,
   "metadata": {},
   "outputs": [],
   "source": [
    "# Untransformed targets PSBA\n",
    "residuals_psba_LassoReg, LassoReg_psba = LinReg(X, Y_psba, method=Lasso)"
   ]
  },
  {
   "cell_type": "code",
   "execution_count": null,
   "metadata": {},
   "outputs": [],
   "source": [
    "# Cubic root transformed targets Viral\n",
    "residuals_viral_LassoReg_cbrt, LassoReg_viral_cbrt = LinReg(X, Y_viral_cbrt, method=Lasso, coef='No')"
   ]
  },
  {
   "cell_type": "code",
   "execution_count": null,
   "metadata": {},
   "outputs": [],
   "source": [
    "# Cubic root transformed targets PSBA\n",
    "residuals_psba_LassoReg_cbrt, LassoReg_psba_cbrt = LinReg(X, Y_psba_cbrt, method=Lasso, coef='No')"
   ]
  },
  {
   "cell_type": "markdown",
   "metadata": {},
   "source": [
    "##### B. Diagnostics\n",
    "###### 1. QQ plots"
   ]
  },
  {
   "cell_type": "code",
   "execution_count": null,
   "metadata": {},
   "outputs": [],
   "source": [
    "fig, (ax_viral, ax_psba) = plt.subplots(nrows=1, ncols=2, figsize=(10,5))\n",
    "fig = sm.graphics.qqplot(residuals_viral_RidgeReg, dist=stats.norm, line='45', fit=True, ax=ax_viral)\n",
    "ax_viral.set_title('Viral load untransformed')\n",
    "fig = sm.graphics.qqplot(residuals_viral_RidgeReg_cbrt, dist=stats.norm, line='45', fit=True, ax=ax_psba)\n",
    "ax_psba.set_title('Viral load cubic root')\n",
    "plt.show()"
   ]
  },
  {
   "cell_type": "code",
   "execution_count": null,
   "metadata": {},
   "outputs": [],
   "source": [
    "fig, (ax_viral, ax_psba) = plt.subplots(nrows=1, ncols=2, figsize=(10,5))\n",
    "fig = sm.graphics.qqplot(residuals_psba_LassoReg, dist=stats.norm, line='45', fit=True, ax=ax_viral)\n",
    "ax_viral.set_title('PSBA mRNA untransformed')\n",
    "fig = sm.graphics.qqplot(residuals_psba_LassoReg_cbrt, dist=stats.norm, line='45', fit=True, ax=ax_psba)\n",
    "ax_psba.set_title('PSBA mRNA cubic root')\n",
    "plt.show()"
   ]
  },
  {
   "cell_type": "markdown",
   "metadata": {},
   "source": [
    "#### 3. Elastic net\n",
    "##### A. Performance and coefficients"
   ]
  },
  {
   "cell_type": "code",
   "execution_count": null,
   "metadata": {},
   "outputs": [],
   "source": [
    "# Untransformed targets Viral\n",
    "residuals_viral_ElNetReg, ElNetReg_viral = LinReg(X, Y_viral, method=ElasticNet)"
   ]
  },
  {
   "cell_type": "code",
   "execution_count": null,
   "metadata": {},
   "outputs": [],
   "source": [
    "# Cubic root transformed targets Viral\n",
    "residuals_viral_ElNetReg_cbrt, ElNetReg_viral_cbrt = LinReg(X, Y_viral_cbrt, method=ElasticNet, coef='No')"
   ]
  },
  {
   "cell_type": "code",
   "execution_count": null,
   "metadata": {},
   "outputs": [],
   "source": [
    "# Untransformed targets PSBA\n",
    "residuals_psba_ElNetRegReg, ElNetReg_psba = LinReg(X, Y_psba, method=ElasticNet)"
   ]
  },
  {
   "cell_type": "code",
   "execution_count": null,
   "metadata": {},
   "outputs": [],
   "source": [
    "# Cubic root transformed targets PSBA\n",
    "residuals_psba_ElNetReg_cbrt, ElNetReg_psba_cbrt = LinReg(X, Y_psba_cbrt, method=ElasticNet, coef='No')"
   ]
  },
  {
   "cell_type": "markdown",
   "metadata": {},
   "source": [
    "##### B. Diagnostics\n",
    "###### 1. QQ plot"
   ]
  },
  {
   "cell_type": "code",
   "execution_count": null,
   "metadata": {},
   "outputs": [],
   "source": [
    "# Viral\n",
    "fig, (ax_viral, ax_psba) = plt.subplots(nrows=1, ncols=2, figsize=(10,5))\n",
    "fig = sm.graphics.qqplot(residuals_viral_ElNetReg, dist=stats.norm, line='45', fit=True, ax=ax_viral)\n",
    "ax_viral.set_title('Viral load untransformed')\n",
    "fig = sm.graphics.qqplot(residuals_viral_ElNetReg_cbrt, dist=stats.norm, line='45', fit=True, ax=ax_psba)\n",
    "ax_psba.set_title('Viral load cubic root')\n",
    "plt.show()"
   ]
  },
  {
   "cell_type": "code",
   "execution_count": null,
   "metadata": {},
   "outputs": [],
   "source": [
    "# PSBA\n",
    "fig, (ax_viral, ax_psba) = plt.subplots(nrows=1, ncols=2, figsize=(10,5))\n",
    "fig = sm.graphics.qqplot(residuals_psba_ElNetReg, dist=stats.norm, line='45', fit=True, ax=ax_viral)\n",
    "ax_viral.set_title('Viral load untransformed')\n",
    "fig = sm.graphics.qqplot(residuals_psba_ElNetReg_cbrt, dist=stats.norm, line='45', fit=True, ax=ax_psba)\n",
    "ax_psba.set_title('Viral load cubic root')\n",
    "plt.show()"
   ]
  },
  {
   "cell_type": "markdown",
   "metadata": {},
   "source": [
    "#### 1.4.2 Principal component analysis"
   ]
  },
  {
   "cell_type": "code",
   "execution_count": null,
   "metadata": {},
   "outputs": [],
   "source": [
    "# Viral\n",
    "for i in range(8, len(X.columns)):\n",
    "    pca = PCA(n_components=i)\n",
    "    X_PCA = pd.DataFrame(pca.fit_transform(X))\n",
    "    print(f\"Variance explained per component:{pca.explained_variance_ratio_.round(2)}\")\n",
    "    print(f\"\\033[1m{i}\\033[0m components explain \\033[1m{np.round(sum(pca.explained_variance_ratio_)*100)}%\\033[0m of the variance.\")\n",
    "    residuals_viral_PCA, Model_viral_PCA = LinReg(X_PCA, Y_viral, coef='No')"
   ]
  },
  {
   "cell_type": "code",
   "execution_count": null,
   "metadata": {},
   "outputs": [],
   "source": [
    "# PSBA\n",
    "for i in range(8, len(X.columns)):\n",
    "    pca = PCA(n_components=i)\n",
    "    X_PCA = pd.DataFrame(pca.fit_transform(X))\n",
    "    print(f\"Variance explained per component:{pca.explained_variance_ratio_.round(2)}\")\n",
    "    print(f\"\\033[1m{i}\\033[0m components explain \\033[1m{np.round(sum(pca.explained_variance_ratio_)*100)}%\\033[0m of the variance.\")\n",
    "    residuals_psba_PCA, Model_psba_PCA = LinReg(X_PCA, Y_psba, coef='No')"
   ]
  },
  {
   "cell_type": "markdown",
   "metadata": {},
   "source": [
    "## 2. Random forest tree\n",
    "### 2.1 Function"
   ]
  },
  {
   "cell_type": "code",
   "execution_count": null,
   "metadata": {},
   "outputs": [],
   "source": [
    "def RanForReg(X, Y, optimize='No'):\n",
    "    tic = time()\n",
    "    \n",
    "    # Initialize\n",
    "    count=0\n",
    "    performance = pd.DataFrame(index=['Mean absolute error', 'Mean squared error', \\\n",
    "                                      'Root mean squared error', 'R\\u00b2 (%)', \\\n",
    "                                      'Adjusted R\\u00b2 (%)', 'Mean absolute percentage error (%)'])\n",
    "\n",
    "    # Split data\n",
    "    logo = LeaveOneGroupOut()\n",
    "    for train_index, test_index in logo.split(X, Y, Replicates):\n",
    "        count+=1\n",
    "        X_train, X_test = X.to_numpy()[train_index], X.to_numpy()[test_index]\n",
    "        Y_train, Y_test = Y.to_numpy()[train_index], Y.to_numpy()[test_index]\n",
    "        Replicates_train, Replicates_test = Replicates.to_numpy()[train_index],\\\n",
    "                                            Replicates.to_numpy()[test_index]\n",
    "        \n",
    "        # Optimize hyperparameters\n",
    "        if optimize != 'No':\n",
    "            ## n_estimators: 5, 10, 15, 20\n",
    "            ## max_depth: 5, 10, 13, 15, 17, 20\n",
    "            ## max_features: 5, 10, 15, 18, 20\n",
    "            hyperparameters = {\"n_estimators\": [15, 20],\n",
    "                               \"max_depth\": [13, 15, 17],\n",
    "                               \"max_features\": [15, 18, 20]}\n",
    "            gkf = GroupKFold(n_splits=2)\n",
    "            Grid = GridSearchCV(RandomForestRegressor(), hyperparameters, scoring='r2', cv=gkf, verbose=3, n_jobs=-1)\n",
    "            Grid.fit(X_train, Y_train, Replicates_train)\n",
    "            n_estimators = Grid.best_params_['n_estimators']\n",
    "            max_depth = Grid.best_params_['max_depth']\n",
    "            max_features = Grid.best_params_['max_features']\n",
    "            \n",
    "        # Set hyperparameters manually\n",
    "        else:\n",
    "            n_estimators = 20\n",
    "            max_depth = 15\n",
    "            max_features = 13\n",
    "\n",
    "        # Build model   \n",
    "        Model = RandomForestRegressor(n_estimators = n_estimators, \n",
    "                                      max_depth = max_depth,\n",
    "                                      max_features = max_features, \n",
    "                                      random_state = 13)\n",
    "        Model.fit(X_train, Y_train)\n",
    "        Y_pred = Model.predict(X_test)\n",
    "\n",
    "        # Performance\n",
    "        mae = mean_absolute_error(Y_test, Y_pred)\n",
    "        mse = mean_squared_error(Y_test, Y_pred)\n",
    "        rmse = np.sqrt(mse)\n",
    "        R2 = Model.score(X_test, Y_test)\n",
    "        adjusted_R2 = 1-((1-R2)*(len(Y_test)-1)/(len(Y_test)-X_test.shape[1]-1))\n",
    "        mape = np.mean(np.abs((Y_test - Y_pred) / Y_test))\n",
    "        performance[count] = [mae, mse, rmse, R2*100, adjusted_R2*100, mape*100] \n",
    "    \n",
    "    # Output\n",
    "        print(f\"\\033[1mNumber of trees: \\033[0m{n_estimators}\")\n",
    "        print(f\"\\033[1mMaximum depth: \\033[0m{max_depth}\")\n",
    "        print(f\"\\033[1mMaximum features per node split: \\033[0m{max_features}\")\n",
    "    toc = time()\n",
    "    print(f\"Done in {toc - tic:.3f}s\")\n",
    "    performance_average = pd.DataFrame(performance.mean(axis='columns'), columns=['Mean'])\n",
    "    performance_average['Std'] = performance.std(axis='columns')\n",
    "    display(performance_average)\n",
    "    return Model"
   ]
  },
  {
   "cell_type": "markdown",
   "metadata": {},
   "source": [
    "### 2.2 Random forest models with all features"
   ]
  },
  {
   "cell_type": "code",
   "execution_count": null,
   "metadata": {},
   "outputs": [],
   "source": [
    "# Viral\n",
    "RanFor_viral = RanForReg(X, Y_viral, optimize='Yes')"
   ]
  },
  {
   "cell_type": "code",
   "execution_count": null,
   "metadata": {},
   "outputs": [],
   "source": [
    "# PSBA\n",
    "RanFor_psba = RanForReg(X, Y_psba, optimize='Yes')"
   ]
  },
  {
   "cell_type": "markdown",
   "metadata": {},
   "source": [
    "### 2.3 Dimension reduction\n",
    "#### 2.3.1 Select n most important features"
   ]
  },
  {
   "cell_type": "code",
   "execution_count": null,
   "metadata": {},
   "outputs": [],
   "source": [
    "# Importance of top n features\n",
    "n = 15\n",
    "features = X.columns\n",
    "importances_viral = RanFor_viral.feature_importances_\n",
    "importances_psba = RanFor_psba.feature_importances_\n",
    "indices_viral = np.argsort(importances_viral)[-n:]\n",
    "indices_psba = np.argsort(importances_psba)[-n:]\n",
    "\n",
    "# Plot\n",
    "plt.subplots(nrows=1, ncols=2, figsize=(17,7))\n",
    "plt.suptitle(\"Feature's relative importances\", fontsize=15)\n",
    "\n",
    "plt.subplot(1, 2, 1)\n",
    "plt.title(\"Viral load\", fontsize=12)\n",
    "plt.barh(range(len(indices_viral)), importances_viral[indices_viral], color='b', align='center')\n",
    "plt.yticks(range(len(indices_viral)), [features[i] for i in indices_viral])\n",
    "\n",
    "plt.subplot(1, 2, 2)\n",
    "plt.title(\"PSBA mRNA\", fontsize=12)\n",
    "plt.barh(range(len(indices_psba)), importances_psba[indices_psba], color='b', align='center')\n",
    "plt.yticks(range(len(indices_psba)), [features[i] for i in indices_psba])\n",
    "\n",
    "plt.show()"
   ]
  },
  {
   "cell_type": "code",
   "execution_count": null,
   "metadata": {},
   "outputs": [],
   "source": [
    "# Select n most important features from model\n",
    "threshold_viral = np.sort(importances_viral)[-n-1] + 0.00001\n",
    "threshold_psba = np.sort(importances_psba)[-n-1] + 0.00001\n",
    "sfm_viral = SelectFromModel(RanFor_viral, threshold=threshold_viral).fit(X_train, Y_viral_train)\n",
    "sfm_psba = SelectFromModel(RanFor_psba, threshold=threshold_psba).fit(X_train, Y_psba_train)\n",
    "\n",
    "print(f\"\\033[1mViral load {n} selected features: \\033[0m\", features[sfm_viral.get_support()])\n",
    "print(f\"\\033[1mPSBA mRNA {n} selected features: \\033[0m\", features[sfm_psba.get_support()])\n",
    "X_viral_selected = df[features[sfm_viral.get_support()]]\n",
    "X_psba_selected = df[features[sfm_psba.get_support()]]"
   ]
  },
  {
   "cell_type": "code",
   "execution_count": null,
   "metadata": {},
   "outputs": [],
   "source": [
    "# Viral\n",
    "RanFor_viral = RanForReg(X_viral_selected, Y_viral, optimize='No')"
   ]
  },
  {
   "cell_type": "code",
   "execution_count": null,
   "metadata": {},
   "outputs": [],
   "source": [
    "# PSBA\n",
    "RanFor_psba = RanForReg(X_psba_selected, Y_psba, optimize='No')"
   ]
  },
  {
   "cell_type": "markdown",
   "metadata": {},
   "source": [
    "#### 2.3.2 Principal Component Analysis"
   ]
  },
  {
   "cell_type": "code",
   "execution_count": null,
   "metadata": {},
   "outputs": [],
   "source": [
    "# Viral\n",
    "for i in range(5, len(X.columns)):\n",
    "    pca = PCA(n_components=i)\n",
    "    X_PCA = pd.DataFrame(pca.fit_transform(X))\n",
    "    print(f\"Variance explained per component:{pca.explained_variance_ratio_.round(2)}\")\n",
    "    print(f\"\\033[1m{i}\\033[0m components explain \\033[1m{np.round(sum(pca.explained_variance_ratio_)*100)}%\\033[0m of the variance.\")\n",
    "    RanFor_viral_PCA = RanForReg(X_PCA, Y_viral, optimize='No')"
   ]
  },
  {
   "cell_type": "code",
   "execution_count": null,
   "metadata": {},
   "outputs": [],
   "source": [
    "# PSBA\n",
    "for i in range(5, len(X.columns)):\n",
    "    pca = PCA(n_components=i)\n",
    "    X_PCA = pd.DataFrame(pca.fit_transform(X))\n",
    "    print(f\"Variance explained per component:{pca.explained_variance_ratio_.round(2)}\")\n",
    "    print(f\"\\033[1m{i}\\033[0m components explain \\033[1m{sum(pca.explained_variance_ratio_)*100}%\\033[0m of the variance.\")\n",
    "    RanFor_psba_PCA = RanForReg(X_PCA, Y_psba, optimize='No')"
   ]
  },
  {
   "cell_type": "markdown",
   "metadata": {},
   "source": [
    "## 3. Multilayer perceptron\n",
    "### 3.1 Function"
   ]
  },
  {
   "cell_type": "code",
   "execution_count": 20,
   "metadata": {},
   "outputs": [],
   "source": [
    "def MLPreg(X, Y, Replicates=Replicates):\n",
    "    tic = time()\n",
    "    \n",
    "    # Initialize\n",
    "    count=0\n",
    "    performance = pd.DataFrame(index=['Mean absolute error', 'Mean squared error', \\\n",
    "                                      'Root mean squared error', 'R\\u00b2 (%)', \\\n",
    "                                      'Adjusted R\\u00b2 (%)', 'Mean absolute percentage error (%)'])\n",
    "        \n",
    "    # Split and standardize data\n",
    "    logo = LeaveOneGroupOut()\n",
    "    for train_index, test_index in logo.split(X, Y, Replicates):\n",
    "        count+=1\n",
    "        X_train, X_test = X.to_numpy()[train_index], X.to_numpy()[test_index]\n",
    "        scaler = StandardScaler()\n",
    "        X_train_scaled = scaler.fit_transform(X_train)\n",
    "        X_test_scaled = scaler.transform(X_test)\n",
    "        Y_train, Y_test = Y.to_numpy()[train_index], Y.to_numpy()[test_index]\n",
    "        Replicates_train, Replicates_test = Replicates.to_numpy()[train_index],\\\n",
    "                                            Replicates.to_numpy()[test_index]\n",
    "        \n",
    "        # Build model and predict\n",
    "        ## hidden_layer_sizes: (28), (28, 28)\n",
    "        Model = MLPRegressor(hidden_layer_sizes=(28), activation=\"relu\", random_state=13, max_iter=2000)\n",
    "        Model.fit(X_train, Y_train)\n",
    "        Y_pred = Model.predict(X_test)\n",
    "\n",
    "        # Performance\n",
    "        mae = mean_absolute_error(Y_test, Y_pred)\n",
    "        mse = mean_squared_error(Y_test, Y_pred)\n",
    "        rmse = np.sqrt(mse)\n",
    "        R2 = Model.score(X_test, Y_test)\n",
    "        adjusted_R2 = 1-((1-R2)*(len(Y_test)-1)/(len(Y_test)-X_test.shape[1]-1))\n",
    "        mape = np.mean(np.abs((Y_test - Y_pred) / Y_test)) * 100\n",
    "        performance[count] = [mae, mse, rmse, R2*100, adjusted_R2*100, mape*100] \n",
    "        print(mae, mse, rmse, R2, adjusted_R2, mape)\n",
    "        \n",
    "    # Output\n",
    "    toc = time()\n",
    "    print(f\"Done in {toc - tic:.3f}s\")\n",
    "    performance_average = pd.DataFrame(performance.mean(axis='columns'), columns=['Mean'])\n",
    "    performance_average['Std'] = performance.std(axis='columns')\n",
    "    display(performance_average)\n",
    "    return Model"
   ]
  },
  {
   "cell_type": "markdown",
   "metadata": {},
   "source": [
    "### 3.2 MLP with all features"
   ]
  },
  {
   "cell_type": "code",
   "execution_count": 15,
   "metadata": {},
   "outputs": [
    {
     "name": "stdout",
     "output_type": "stream",
     "text": [
      "3445.221293896806 28394117.217697304 5328.613066990069 0.5475738917312435 0.5474741472680102 617.9143802053653\n",
      "2347.685013303076 16929628.391157392 4114.5629647822125 0.6388476517027025 0.6387377899054107 249.87245015301193\n",
      "2855.044330060051 21266923.702682335 4611.607496598375 0.6354763310608738 0.6353520380879452 1097.6948943801847\n",
      "Done in 3452.805s\n"
     ]
    },
    {
     "data": {
      "text/html": [
       "<div>\n",
       "<style scoped>\n",
       "    .dataframe tbody tr th:only-of-type {\n",
       "        vertical-align: middle;\n",
       "    }\n",
       "\n",
       "    .dataframe tbody tr th {\n",
       "        vertical-align: top;\n",
       "    }\n",
       "\n",
       "    .dataframe thead th {\n",
       "        text-align: right;\n",
       "    }\n",
       "</style>\n",
       "<table border=\"1\" class=\"dataframe\">\n",
       "  <thead>\n",
       "    <tr style=\"text-align: right;\">\n",
       "      <th></th>\n",
       "      <th>Mean</th>\n",
       "      <th>Std</th>\n",
       "    </tr>\n",
       "  </thead>\n",
       "  <tbody>\n",
       "    <tr>\n",
       "      <th>Mean absolute error</th>\n",
       "      <td>2.882650e+03</td>\n",
       "      <td>5.492887e+02</td>\n",
       "    </tr>\n",
       "    <tr>\n",
       "      <th>Mean squared error</th>\n",
       "      <td>2.219689e+07</td>\n",
       "      <td>5.788545e+06</td>\n",
       "    </tr>\n",
       "    <tr>\n",
       "      <th>Root mean squared error</th>\n",
       "      <td>4.684928e+03</td>\n",
       "      <td>6.103371e+02</td>\n",
       "    </tr>\n",
       "    <tr>\n",
       "      <th>R² (%)</th>\n",
       "      <td>6.072993e+01</td>\n",
       "      <td>5.175117e+00</td>\n",
       "    </tr>\n",
       "    <tr>\n",
       "      <th>Adjusted R² (%)</th>\n",
       "      <td>6.071880e+01</td>\n",
       "      <td>5.174141e+00</td>\n",
       "    </tr>\n",
       "    <tr>\n",
       "      <th>Mean absolute percentage error (%)</th>\n",
       "      <td>6.551606e+04</td>\n",
       "      <td>4.251367e+04</td>\n",
       "    </tr>\n",
       "  </tbody>\n",
       "</table>\n",
       "</div>"
      ],
      "text/plain": [
       "                                            Mean           Std\n",
       "Mean absolute error                 2.882650e+03  5.492887e+02\n",
       "Mean squared error                  2.219689e+07  5.788545e+06\n",
       "Root mean squared error             4.684928e+03  6.103371e+02\n",
       "R² (%)                              6.072993e+01  5.175117e+00\n",
       "Adjusted R² (%)                     6.071880e+01  5.174141e+00\n",
       "Mean absolute percentage error (%)  6.551606e+04  4.251367e+04"
      ]
     },
     "metadata": {},
     "output_type": "display_data"
    },
    {
     "data": {
      "text/plain": [
       "MLPRegressor(hidden_layer_sizes=(28, 28), max_iter=2000, random_state=13)"
      ]
     },
     "execution_count": 15,
     "metadata": {},
     "output_type": "execute_result"
    }
   ],
   "source": [
    "# Viral\n",
    "MLPreg(X, Y_viral, Replicates=Replicates)"
   ]
  },
  {
   "cell_type": "code",
   "execution_count": 17,
   "metadata": {},
   "outputs": [
    {
     "name": "stdout",
     "output_type": "stream",
     "text": [
      "16749.605159327803 520054691.3515765 22804.707657665258 0.41665081225538514 0.41652220373667737 505.4343419137909\n",
      "9743.6000674753 201863799.0265385 14207.878062066076 0.7333865957422774 0.7333054924962042 416.9820202102362\n",
      "12057.370754132582 264309431.6034329 16257.596120073622 0.6350379573618659 0.6349135149150484 243.84044450629796\n",
      "Done in 1894.485s\n"
     ]
    },
    {
     "data": {
      "text/html": [
       "<div>\n",
       "<style scoped>\n",
       "    .dataframe tbody tr th:only-of-type {\n",
       "        vertical-align: middle;\n",
       "    }\n",
       "\n",
       "    .dataframe tbody tr th {\n",
       "        vertical-align: top;\n",
       "    }\n",
       "\n",
       "    .dataframe thead th {\n",
       "        text-align: right;\n",
       "    }\n",
       "</style>\n",
       "<table border=\"1\" class=\"dataframe\">\n",
       "  <thead>\n",
       "    <tr style=\"text-align: right;\">\n",
       "      <th></th>\n",
       "      <th>Mean</th>\n",
       "      <th>Std</th>\n",
       "    </tr>\n",
       "  </thead>\n",
       "  <tbody>\n",
       "    <tr>\n",
       "      <th>Mean absolute error</th>\n",
       "      <td>1.285019e+04</td>\n",
       "      <td>3.569657e+03</td>\n",
       "    </tr>\n",
       "    <tr>\n",
       "      <th>Mean squared error</th>\n",
       "      <td>3.287426e+08</td>\n",
       "      <td>1.685974e+08</td>\n",
       "    </tr>\n",
       "    <tr>\n",
       "      <th>Root mean squared error</th>\n",
       "      <td>1.775673e+04</td>\n",
       "      <td>4.490202e+03</td>\n",
       "    </tr>\n",
       "    <tr>\n",
       "      <th>R² (%)</th>\n",
       "      <td>5.950251e+01</td>\n",
       "      <td>1.621146e+01</td>\n",
       "    </tr>\n",
       "    <tr>\n",
       "      <th>Adjusted R² (%)</th>\n",
       "      <td>5.949137e+01</td>\n",
       "      <td>1.621354e+01</td>\n",
       "    </tr>\n",
       "    <tr>\n",
       "      <th>Mean absolute percentage error (%)</th>\n",
       "      <td>3.887523e+04</td>\n",
       "      <td>1.330621e+04</td>\n",
       "    </tr>\n",
       "  </tbody>\n",
       "</table>\n",
       "</div>"
      ],
      "text/plain": [
       "                                            Mean           Std\n",
       "Mean absolute error                 1.285019e+04  3.569657e+03\n",
       "Mean squared error                  3.287426e+08  1.685974e+08\n",
       "Root mean squared error             1.775673e+04  4.490202e+03\n",
       "R² (%)                              5.950251e+01  1.621146e+01\n",
       "Adjusted R² (%)                     5.949137e+01  1.621354e+01\n",
       "Mean absolute percentage error (%)  3.887523e+04  1.330621e+04"
      ]
     },
     "metadata": {},
     "output_type": "display_data"
    },
    {
     "data": {
      "text/plain": [
       "MLPRegressor(hidden_layer_sizes=(28, 28), max_iter=2000, random_state=13)"
      ]
     },
     "execution_count": 17,
     "metadata": {},
     "output_type": "execute_result"
    }
   ],
   "source": [
    "# PSBA\n",
    "MLPreg(X, Y_psba, Replicates=Replicates)"
   ]
  },
  {
   "cell_type": "markdown",
   "metadata": {},
   "source": [
    "### 3.3 Dimension reduction\n",
    "#### 3.3.2 Principal component analysis"
   ]
  },
  {
   "cell_type": "code",
   "execution_count": 21,
   "metadata": {},
   "outputs": [],
   "source": [
    "# Project features\n",
    "pca = PCA(n_components=15)\n",
    "X_PCA = pd.DataFrame(pca.fit_transform(X))"
   ]
  },
  {
   "cell_type": "code",
   "execution_count": 22,
   "metadata": {},
   "outputs": [
    {
     "name": "stdout",
     "output_type": "stream",
     "text": [
      "3535.922021016689 33056751.911851063 5749.500144521354 0.4732804156290854 0.4732159088217245 341.50532299335424\n",
      "2640.0561833487427 18505131.335540384 4301.759097804104 0.6052381373668522 0.6051714320842173 319.68308895123056\n",
      "3693.587300917867 29863756.24836259 5464.774126014961 0.48812314615188723 0.4880261961057021 1929.543557704654\n",
      "Done in 3538.387s\n"
     ]
    },
    {
     "data": {
      "text/html": [
       "<div>\n",
       "<style scoped>\n",
       "    .dataframe tbody tr th:only-of-type {\n",
       "        vertical-align: middle;\n",
       "    }\n",
       "\n",
       "    .dataframe tbody tr th {\n",
       "        vertical-align: top;\n",
       "    }\n",
       "\n",
       "    .dataframe thead th {\n",
       "        text-align: right;\n",
       "    }\n",
       "</style>\n",
       "<table border=\"1\" class=\"dataframe\">\n",
       "  <thead>\n",
       "    <tr style=\"text-align: right;\">\n",
       "      <th></th>\n",
       "      <th>Mean</th>\n",
       "      <th>Std</th>\n",
       "    </tr>\n",
       "  </thead>\n",
       "  <tbody>\n",
       "    <tr>\n",
       "      <th>Mean absolute error</th>\n",
       "      <td>3.289855e+03</td>\n",
       "      <td>5.682373e+02</td>\n",
       "    </tr>\n",
       "    <tr>\n",
       "      <th>Mean squared error</th>\n",
       "      <td>2.714188e+07</td>\n",
       "      <td>7.648129e+06</td>\n",
       "    </tr>\n",
       "    <tr>\n",
       "      <th>Root mean squared error</th>\n",
       "      <td>5.172011e+03</td>\n",
       "      <td>7.669884e+02</td>\n",
       "    </tr>\n",
       "    <tr>\n",
       "      <th>R² (%)</th>\n",
       "      <td>5.222139e+01</td>\n",
       "      <td>7.228309e+00</td>\n",
       "    </tr>\n",
       "    <tr>\n",
       "      <th>Adjusted R² (%)</th>\n",
       "      <td>5.221378e+01</td>\n",
       "      <td>7.228948e+00</td>\n",
       "    </tr>\n",
       "    <tr>\n",
       "      <th>Mean absolute percentage error (%)</th>\n",
       "      <td>8.635773e+04</td>\n",
       "      <td>9.232183e+04</td>\n",
       "    </tr>\n",
       "  </tbody>\n",
       "</table>\n",
       "</div>"
      ],
      "text/plain": [
       "                                            Mean           Std\n",
       "Mean absolute error                 3.289855e+03  5.682373e+02\n",
       "Mean squared error                  2.714188e+07  7.648129e+06\n",
       "Root mean squared error             5.172011e+03  7.669884e+02\n",
       "R² (%)                              5.222139e+01  7.228309e+00\n",
       "Adjusted R² (%)                     5.221378e+01  7.228948e+00\n",
       "Mean absolute percentage error (%)  8.635773e+04  9.232183e+04"
      ]
     },
     "metadata": {},
     "output_type": "display_data"
    },
    {
     "data": {
      "text/plain": [
       "MLPRegressor(hidden_layer_sizes=28, max_iter=2000, random_state=13)"
      ]
     },
     "execution_count": 22,
     "metadata": {},
     "output_type": "execute_result"
    }
   ],
   "source": [
    "# Viral 15 components\n",
    "MLPreg(X_PCA, Y_viral)"
   ]
  },
  {
   "cell_type": "code",
   "execution_count": 23,
   "metadata": {},
   "outputs": [
    {
     "name": "stdout",
     "output_type": "stream",
     "text": [
      "9477.61012293205 202362826.09157494 14225.428854399257 0.7730081235813331 0.7729803241190023 401.9296992318267\n"
     ]
    },
    {
     "name": "stderr",
     "output_type": "stream",
     "text": [
      "C:\\Users\\ThinkPad\\anaconda3\\lib\\site-packages\\sklearn\\neural_network\\_multilayer_perceptron.py:582: ConvergenceWarning: Stochastic Optimizer: Maximum iterations (2000) reached and the optimization hasn't converged yet.\n",
      "  warnings.warn(\n"
     ]
    },
    {
     "name": "stdout",
     "output_type": "stream",
     "text": [
      "9484.0754570859 201445550.64292443 14193.151540194462 0.7339390010072055 0.733894043082401 401.75662339064235\n",
      "11171.22438145121 244249984.45132363 15628.499110641547 0.6627363136498463 0.6626724355320484 227.76301577147544\n",
      "Done in 4329.507s\n"
     ]
    },
    {
     "data": {
      "text/html": [
       "<div>\n",
       "<style scoped>\n",
       "    .dataframe tbody tr th:only-of-type {\n",
       "        vertical-align: middle;\n",
       "    }\n",
       "\n",
       "    .dataframe tbody tr th {\n",
       "        vertical-align: top;\n",
       "    }\n",
       "\n",
       "    .dataframe thead th {\n",
       "        text-align: right;\n",
       "    }\n",
       "</style>\n",
       "<table border=\"1\" class=\"dataframe\">\n",
       "  <thead>\n",
       "    <tr style=\"text-align: right;\">\n",
       "      <th></th>\n",
       "      <th>Mean</th>\n",
       "      <th>Std</th>\n",
       "    </tr>\n",
       "  </thead>\n",
       "  <tbody>\n",
       "    <tr>\n",
       "      <th>Mean absolute error</th>\n",
       "      <td>1.004430e+04</td>\n",
       "      <td>9.759476e+02</td>\n",
       "    </tr>\n",
       "    <tr>\n",
       "      <th>Mean squared error</th>\n",
       "      <td>2.160195e+08</td>\n",
       "      <td>2.445266e+07</td>\n",
       "    </tr>\n",
       "    <tr>\n",
       "      <th>Root mean squared error</th>\n",
       "      <td>1.468236e+04</td>\n",
       "      <td>8.195396e+02</td>\n",
       "    </tr>\n",
       "    <tr>\n",
       "      <th>R² (%)</th>\n",
       "      <td>7.232278e+01</td>\n",
       "      <td>5.591078e+00</td>\n",
       "    </tr>\n",
       "    <tr>\n",
       "      <th>Adjusted R² (%)</th>\n",
       "      <td>7.231823e+01</td>\n",
       "      <td>5.592865e+00</td>\n",
       "    </tr>\n",
       "    <tr>\n",
       "      <th>Mean absolute percentage error (%)</th>\n",
       "      <td>3.438164e+04</td>\n",
       "      <td>1.005053e+04</td>\n",
       "    </tr>\n",
       "  </tbody>\n",
       "</table>\n",
       "</div>"
      ],
      "text/plain": [
       "                                            Mean           Std\n",
       "Mean absolute error                 1.004430e+04  9.759476e+02\n",
       "Mean squared error                  2.160195e+08  2.445266e+07\n",
       "Root mean squared error             1.468236e+04  8.195396e+02\n",
       "R² (%)                              7.232278e+01  5.591078e+00\n",
       "Adjusted R² (%)                     7.231823e+01  5.592865e+00\n",
       "Mean absolute percentage error (%)  3.438164e+04  1.005053e+04"
      ]
     },
     "metadata": {},
     "output_type": "display_data"
    },
    {
     "data": {
      "text/plain": [
       "MLPRegressor(hidden_layer_sizes=28, max_iter=2000, random_state=13)"
      ]
     },
     "execution_count": 23,
     "metadata": {},
     "output_type": "execute_result"
    }
   ],
   "source": [
    "# PSBA 15 components\n",
    "MLPreg(X_PCA, Y_psba)"
   ]
  },
  {
   "cell_type": "markdown",
   "metadata": {},
   "source": [
    "## 4. K-nearest neighbor regression\n",
    "### 4.1 Function"
   ]
  },
  {
   "cell_type": "code",
   "execution_count": 4,
   "metadata": {},
   "outputs": [],
   "source": [
    "def KNNReg(X, Y, Replicates=Replicates):   \n",
    "    tic = time()\n",
    "\n",
    "    # Initialize\n",
    "    count=0\n",
    "    performance = pd.DataFrame(index=['Mean absolute error', 'Mean squared error', \\\n",
    "                                      'Root mean squared error', 'R\\u00b2 (%)', \\\n",
    "                                      'Adjusted R\\u00b2 (%)', 'Mean absolute percentage error (%)'])\n",
    "\n",
    "    # Split and standardize data\n",
    "    logo = LeaveOneGroupOut()\n",
    "    for train_index, test_index in logo.split(X, Y, Replicates):\n",
    "        count+=1\n",
    "        X_train, X_test = X.to_numpy()[train_index], X.to_numpy()[test_index]\n",
    "        scaler = StandardScaler()\n",
    "        X_train_scaled = scaler.fit_transform(X_train)\n",
    "        X_test_scaled = scaler.transform(X_test)\n",
    "        Y_train, Y_test = Y.to_numpy()[train_index], Y.to_numpy()[test_index]\n",
    "        Replicates_train, Replicates_test = Replicates.to_numpy()[train_index],\\\n",
    "                                            Replicates.to_numpy()[test_index]\n",
    "        \n",
    "        # Optimize hyperparameter K\n",
    "        ## K: 4, 6, 9, 11, 13, 14, 15, 18, 20, 30\n",
    "        hyperparameters = {'n_neighbors':[14]}\n",
    "        gkf = GroupKFold(n_splits=2)\n",
    "        Grid = GridSearchCV(KNeighborsRegressor(), hyperparameters, scoring='r2', cv=gkf, verbose=3, n_jobs=-1)\n",
    "        Grid.fit(X_train_scaled, Y_train, Replicates_train)\n",
    "\n",
    "        # Build models and predict\n",
    "        Model = KNeighborsRegressor(n_neighbors = Grid.best_params_['n_neighbors'])\n",
    "        Model.fit(X_train_scaled, Y_train)\n",
    "        Y_pred = Model.predict(X_test_scaled)\n",
    "        \n",
    "        # Performance\n",
    "        mae = mean_absolute_error(Y_test, Y_pred)\n",
    "        mse = mean_squared_error(Y_test, Y_pred)\n",
    "        rmse = np.sqrt(mse)\n",
    "        R2 = Model.score(X_test_scaled, Y_test)\n",
    "        adjusted_R2 = 1-((1-R2)*(len(Y_test)-1)/(len(Y_test)-X_test_scaled.shape[1]-1))\n",
    "        mape = np.mean(np.abs((Y_test - Y_pred) / Y_test))\n",
    "        performance[count] = [mae, mse, rmse, R2*100, adjusted_R2*100, mape*100] \n",
    "\n",
    "        # Output\n",
    "        print(f\"\\033[1mViral load K: \\033[0m{Grid.best_params_['n_neighbors']}\")\n",
    "    toc = time()\n",
    "    print(f\"Done in {toc - tic:.3f}s\")\n",
    "    performance_average = pd.DataFrame(performance.mean(axis='columns'), columns=['Mean'])\n",
    "    performance_average['Std'] = performance.std(axis='columns')\n",
    "    display(performance_average)\n",
    "    return Model"
   ]
  },
  {
   "cell_type": "markdown",
   "metadata": {},
   "source": [
    "### 4.2 KNN with all features"
   ]
  },
  {
   "cell_type": "code",
   "execution_count": null,
   "metadata": {},
   "outputs": [],
   "source": [
    "# Viral\n",
    "KNNReg(X, Y_viral, Replicates=Replicates)"
   ]
  },
  {
   "cell_type": "code",
   "execution_count": null,
   "metadata": {},
   "outputs": [],
   "source": [
    "# PSBA\n",
    "KNNReg(X, Y_psba, Replicates=Replicates)"
   ]
  },
  {
   "cell_type": "markdown",
   "metadata": {},
   "source": [
    "### 4.3 Dimension reduction\n",
    "#### 4.3.1 Principal component analysis"
   ]
  },
  {
   "cell_type": "code",
   "execution_count": 5,
   "metadata": {},
   "outputs": [],
   "source": [
    "# Project features\n",
    "pca = PCA(n_components=15)\n",
    "X_PCA = pd.DataFrame(pca.fit_transform(X))"
   ]
  },
  {
   "cell_type": "code",
   "execution_count": null,
   "metadata": {},
   "outputs": [],
   "source": [
    "# Viral\n",
    "KNNReg(X_PCA, Y_viral, Replicates=Replicates)"
   ]
  },
  {
   "cell_type": "code",
   "execution_count": 6,
   "metadata": {},
   "outputs": [
    {
     "name": "stderr",
     "output_type": "stream",
     "text": [
      "C:\\Users\\ThinkPad\\anaconda3\\lib\\site-packages\\sklearn\\utils\\validation.py:67: FutureWarning: Pass groups=[2 2 2 ... 3 3 3] as keyword args. From version 0.25 passing these as positional arguments will result in an error\n",
      "  warnings.warn(\"Pass {} as keyword args. From version 0.25 \"\n",
      "[Parallel(n_jobs=-1)]: Using backend LokyBackend with 4 concurrent workers.\n"
     ]
    },
    {
     "name": "stdout",
     "output_type": "stream",
     "text": [
      "Fitting 2 folds for each of 1 candidates, totalling 2 fits\n"
     ]
    },
    {
     "name": "stderr",
     "output_type": "stream",
     "text": [
      "[Parallel(n_jobs=-1)]: Done   2 out of   2 | elapsed: 20.0min remaining:    0.0s\n",
      "[Parallel(n_jobs=-1)]: Done   2 out of   2 | elapsed: 20.0min finished\n"
     ]
    },
    {
     "name": "stdout",
     "output_type": "stream",
     "text": [
      "\u001b[1mViral load K: \u001b[0m14\n"
     ]
    },
    {
     "name": "stderr",
     "output_type": "stream",
     "text": [
      "C:\\Users\\ThinkPad\\anaconda3\\lib\\site-packages\\sklearn\\utils\\validation.py:67: FutureWarning: Pass groups=[1 1 1 ... 3 3 3] as keyword args. From version 0.25 passing these as positional arguments will result in an error\n",
      "  warnings.warn(\"Pass {} as keyword args. From version 0.25 \"\n",
      "[Parallel(n_jobs=-1)]: Using backend LokyBackend with 4 concurrent workers.\n"
     ]
    },
    {
     "name": "stdout",
     "output_type": "stream",
     "text": [
      "Fitting 2 folds for each of 1 candidates, totalling 2 fits\n"
     ]
    },
    {
     "name": "stderr",
     "output_type": "stream",
     "text": [
      "[Parallel(n_jobs=-1)]: Done   2 out of   2 | elapsed: 16.3min remaining:    0.0s\n",
      "[Parallel(n_jobs=-1)]: Done   2 out of   2 | elapsed: 16.3min finished\n"
     ]
    },
    {
     "name": "stdout",
     "output_type": "stream",
     "text": [
      "\u001b[1mViral load K: \u001b[0m14\n"
     ]
    },
    {
     "name": "stderr",
     "output_type": "stream",
     "text": [
      "C:\\Users\\ThinkPad\\anaconda3\\lib\\site-packages\\sklearn\\utils\\validation.py:67: FutureWarning: Pass groups=[1 1 1 ... 2 2 2] as keyword args. From version 0.25 passing these as positional arguments will result in an error\n",
      "  warnings.warn(\"Pass {} as keyword args. From version 0.25 \"\n",
      "[Parallel(n_jobs=-1)]: Using backend LokyBackend with 4 concurrent workers.\n"
     ]
    },
    {
     "name": "stdout",
     "output_type": "stream",
     "text": [
      "Fitting 2 folds for each of 1 candidates, totalling 2 fits\n"
     ]
    },
    {
     "name": "stderr",
     "output_type": "stream",
     "text": [
      "[Parallel(n_jobs=-1)]: Done   2 out of   2 | elapsed: 17.5min remaining:    0.0s\n",
      "[Parallel(n_jobs=-1)]: Done   2 out of   2 | elapsed: 17.5min finished\n"
     ]
    },
    {
     "name": "stdout",
     "output_type": "stream",
     "text": [
      "\u001b[1mViral load K: \u001b[0m14\n",
      "Done in 10462.212s\n"
     ]
    },
    {
     "data": {
      "text/html": [
       "<div>\n",
       "<style scoped>\n",
       "    .dataframe tbody tr th:only-of-type {\n",
       "        vertical-align: middle;\n",
       "    }\n",
       "\n",
       "    .dataframe tbody tr th {\n",
       "        vertical-align: top;\n",
       "    }\n",
       "\n",
       "    .dataframe thead th {\n",
       "        text-align: right;\n",
       "    }\n",
       "</style>\n",
       "<table border=\"1\" class=\"dataframe\">\n",
       "  <thead>\n",
       "    <tr style=\"text-align: right;\">\n",
       "      <th></th>\n",
       "      <th>Mean</th>\n",
       "      <th>Std</th>\n",
       "    </tr>\n",
       "  </thead>\n",
       "  <tbody>\n",
       "    <tr>\n",
       "      <th>Mean absolute error</th>\n",
       "      <td>1.073548e+04</td>\n",
       "      <td>7.824623e+02</td>\n",
       "    </tr>\n",
       "    <tr>\n",
       "      <th>Mean squared error</th>\n",
       "      <td>2.580000e+08</td>\n",
       "      <td>1.635881e+07</td>\n",
       "    </tr>\n",
       "    <tr>\n",
       "      <th>Root mean squared error</th>\n",
       "      <td>1.605692e+04</td>\n",
       "      <td>5.127017e+02</td>\n",
       "    </tr>\n",
       "    <tr>\n",
       "      <th>R² (%)</th>\n",
       "      <td>6.719982e+01</td>\n",
       "      <td>3.071295e+00</td>\n",
       "    </tr>\n",
       "    <tr>\n",
       "      <th>Adjusted R² (%)</th>\n",
       "      <td>6.719451e+01</td>\n",
       "      <td>3.072775e+00</td>\n",
       "    </tr>\n",
       "    <tr>\n",
       "      <th>Mean absolute percentage error (%)</th>\n",
       "      <td>3.027936e+02</td>\n",
       "      <td>8.708017e+01</td>\n",
       "    </tr>\n",
       "  </tbody>\n",
       "</table>\n",
       "</div>"
      ],
      "text/plain": [
       "                                            Mean           Std\n",
       "Mean absolute error                 1.073548e+04  7.824623e+02\n",
       "Mean squared error                  2.580000e+08  1.635881e+07\n",
       "Root mean squared error             1.605692e+04  5.127017e+02\n",
       "R² (%)                              6.719982e+01  3.071295e+00\n",
       "Adjusted R² (%)                     6.719451e+01  3.072775e+00\n",
       "Mean absolute percentage error (%)  3.027936e+02  8.708017e+01"
      ]
     },
     "metadata": {},
     "output_type": "display_data"
    },
    {
     "data": {
      "text/plain": [
       "KNeighborsRegressor(n_neighbors=14)"
      ]
     },
     "execution_count": 6,
     "metadata": {},
     "output_type": "execute_result"
    }
   ],
   "source": [
    "# PSBA\n",
    "KNNReg(X_PCA, Y_psba, Replicates=Replicates)"
   ]
  },
  {
   "cell_type": "markdown",
   "metadata": {},
   "source": [
    "## 5. Support vector regression\n",
    "### 5.1 Function "
   ]
  },
  {
   "cell_type": "code",
   "execution_count": 26,
   "metadata": {},
   "outputs": [],
   "source": [
    "def SVReg(X, Y, Replicates=Replicates):\n",
    "    tic = time()\n",
    "    \n",
    "    # Initialize\n",
    "    count=0\n",
    "    performance = pd.DataFrame(index=['Mean absolute error', 'Mean squared error', \\\n",
    "                                      'Root mean squared error', 'R\\u00b2 (%)', \\\n",
    "                                      'Adjusted R\\u00b2 (%)', 'Mean absolute percentage error (%)'])\n",
    "\n",
    "    # Split and standardize data\n",
    "    logo = LeaveOneGroupOut()\n",
    "    for train_index, test_index in logo.split(X, Y, Replicates):\n",
    "        count+=1\n",
    "        X_train, X_test = X.to_numpy()[train_index], X.to_numpy()[test_index]\n",
    "        scaler = StandardScaler()\n",
    "        X_train_scaled = scaler.fit_transform(X_train)\n",
    "        X_test_scaled = scaler.transform(X_test)\n",
    "        Y_train, Y_test = Y.to_numpy()[train_index], Y.to_numpy()[test_index]\n",
    "        Replicates_train, Replicates_test = Replicates.to_numpy()[train_index],\\\n",
    "                                            Replicates.to_numpy()[test_index]\n",
    "\n",
    "        # Optimize hyperparameters\n",
    "        ## C: 0.1, 1, 10, 100, 1000, 10000, 50000, 100000\n",
    "        ## gamma: 1, 0.1, 0.08, 0.05, 0.03, 0.01, , 0.005, 0.001, 0.0001\n",
    "        ## kernel: rbf, linear, poly\n",
    "        hyperparameter = {'C': [10000, 50000], \n",
    "                          'gamma': [0.03],\n",
    "                          'kernel': ['rbf']} \n",
    "        gkf = GroupKFold(n_splits=2)\n",
    "        Grid = GridSearchCV(SVR(), hyperparameter, scoring='r2', cv=gkf, verbose=3, n_jobs=-1)\n",
    "        Grid.fit(X_train_scaled, Y_train, Replicates_train)\n",
    "\n",
    "        # Build model and predict\n",
    "        Model = SVR(C=Grid.best_params_['C'],\\\n",
    "                    gamma=Grid.best_params_['gamma'],\\\n",
    "                    kernel=Grid.best_params_['kernel'])\n",
    "        Model.fit(X_train_scaled, Y_train)\n",
    "        Y_pred = Model.predict(X_test_scaled)\n",
    "      \n",
    "        # Performance\n",
    "        mae = mean_absolute_error(Y_test, Y_pred)\n",
    "        mse = mean_squared_error(Y_test, Y_pred)\n",
    "        rmse = np.sqrt(mse)\n",
    "        R2 = Model.score(X_test_scaled, Y_test)\n",
    "        adjusted_R2 = 1-((1-R2)*(len(Y_test)-1)/(len(Y_test)-X_test_scaled.shape[1]-1))\n",
    "        mape = np.mean(np.abs((Y_test - Y_pred) / Y_test))\n",
    "        performance[count] = [mae, mse, rmse, R2*100, adjusted_R2*100, mape*100] \n",
    "        \n",
    "        # Output\n",
    "        print(f\"\\033[1mViral load C: \\033[0m{Grid.best_params_['C']}\")\n",
    "        print(f\"\\033[1m           γ: \\033[0m{Grid.best_params_['gamma']}\")\n",
    "        print(f\"\\033[1m           kernel: \\033[0m{Grid.best_params_['kernel']}\")\n",
    "    toc = time()\n",
    "    print(f\"Done in {toc - tic:.3f}s\")\n",
    "    performance_average = pd.DataFrame(performance.mean(axis='columns'), columns=['Mean'])\n",
    "    performance_average['Std'] = performance.std(axis='columns')\n",
    "    display(performance_average) "
   ]
  },
  {
   "cell_type": "markdown",
   "metadata": {},
   "source": [
    "### 5.2 Models with all features"
   ]
  },
  {
   "cell_type": "code",
   "execution_count": 27,
   "metadata": {},
   "outputs": [
    {
     "name": "stderr",
     "output_type": "stream",
     "text": [
      "C:\\Users\\ThinkPad\\anaconda3\\lib\\site-packages\\sklearn\\utils\\validation.py:67: FutureWarning: Pass groups=[2 2 2 ... 3 3 3] as keyword args. From version 0.25 passing these as positional arguments will result in an error\n",
      "  warnings.warn(\"Pass {} as keyword args. From version 0.25 \"\n",
      "[Parallel(n_jobs=-1)]: Using backend LokyBackend with 4 concurrent workers.\n"
     ]
    },
    {
     "name": "stdout",
     "output_type": "stream",
     "text": [
      "Fitting 2 folds for each of 2 candidates, totalling 4 fits\n"
     ]
    },
    {
     "name": "stderr",
     "output_type": "stream",
     "text": [
      "[Parallel(n_jobs=-1)]: Done   4 out of   4 | elapsed:  3.6min finished\n"
     ]
    },
    {
     "name": "stdout",
     "output_type": "stream",
     "text": [
      "\u001b[1mViral load C: \u001b[0m50000\n",
      "\u001b[1m           γ: \u001b[0m0.03\n",
      "\u001b[1m           kernel: \u001b[0mrbf\n",
      "Fitting 2 folds for each of 2 candidates, totalling 4 fits\n"
     ]
    },
    {
     "name": "stderr",
     "output_type": "stream",
     "text": [
      "C:\\Users\\ThinkPad\\anaconda3\\lib\\site-packages\\sklearn\\utils\\validation.py:67: FutureWarning: Pass groups=[1 1 3 ... 3 1 1] as keyword args. From version 0.25 passing these as positional arguments will result in an error\n",
      "  warnings.warn(\"Pass {} as keyword args. From version 0.25 \"\n",
      "[Parallel(n_jobs=-1)]: Using backend LokyBackend with 4 concurrent workers.\n",
      "[Parallel(n_jobs=-1)]: Done   4 out of   4 | elapsed:  5.6min finished\n"
     ]
    },
    {
     "name": "stdout",
     "output_type": "stream",
     "text": [
      "\u001b[1mViral load C: \u001b[0m50000\n",
      "\u001b[1m           γ: \u001b[0m0.03\n",
      "\u001b[1m           kernel: \u001b[0mrbf\n",
      "Fitting 2 folds for each of 2 candidates, totalling 4 fits\n"
     ]
    },
    {
     "name": "stderr",
     "output_type": "stream",
     "text": [
      "C:\\Users\\ThinkPad\\anaconda3\\lib\\site-packages\\sklearn\\utils\\validation.py:67: FutureWarning: Pass groups=[2 1 1 ... 1 1 1] as keyword args. From version 0.25 passing these as positional arguments will result in an error\n",
      "  warnings.warn(\"Pass {} as keyword args. From version 0.25 \"\n",
      "[Parallel(n_jobs=-1)]: Using backend LokyBackend with 4 concurrent workers.\n",
      "[Parallel(n_jobs=-1)]: Done   4 out of   4 | elapsed:  7.2min finished\n"
     ]
    },
    {
     "name": "stdout",
     "output_type": "stream",
     "text": [
      "\u001b[1mViral load C: \u001b[0m50000\n",
      "\u001b[1m           γ: \u001b[0m0.03\n",
      "\u001b[1m           kernel: \u001b[0mrbf\n",
      "Done in 33814.717s\n"
     ]
    },
    {
     "data": {
      "text/html": [
       "<div>\n",
       "<style scoped>\n",
       "    .dataframe tbody tr th:only-of-type {\n",
       "        vertical-align: middle;\n",
       "    }\n",
       "\n",
       "    .dataframe tbody tr th {\n",
       "        vertical-align: top;\n",
       "    }\n",
       "\n",
       "    .dataframe thead th {\n",
       "        text-align: right;\n",
       "    }\n",
       "</style>\n",
       "<table border=\"1\" class=\"dataframe\">\n",
       "  <thead>\n",
       "    <tr style=\"text-align: right;\">\n",
       "      <th></th>\n",
       "      <th>Mean</th>\n",
       "      <th>Std</th>\n",
       "    </tr>\n",
       "  </thead>\n",
       "  <tbody>\n",
       "    <tr>\n",
       "      <th>Mean absolute error</th>\n",
       "      <td>3.314000e+03</td>\n",
       "      <td>5.233708e+02</td>\n",
       "    </tr>\n",
       "    <tr>\n",
       "      <th>Mean squared error</th>\n",
       "      <td>2.755289e+07</td>\n",
       "      <td>8.079144e+06</td>\n",
       "    </tr>\n",
       "    <tr>\n",
       "      <th>Root mean squared error</th>\n",
       "      <td>5.211117e+03</td>\n",
       "      <td>7.718350e+02</td>\n",
       "    </tr>\n",
       "    <tr>\n",
       "      <th>R² (%)</th>\n",
       "      <td>5.125250e+01</td>\n",
       "      <td>6.531277e+00</td>\n",
       "    </tr>\n",
       "    <tr>\n",
       "      <th>Adjusted R² (%)</th>\n",
       "      <td>5.116581e+01</td>\n",
       "      <td>6.527331e+00</td>\n",
       "    </tr>\n",
       "    <tr>\n",
       "      <th>Mean absolute percentage error (%)</th>\n",
       "      <td>3.852243e+02</td>\n",
       "      <td>1.616341e+02</td>\n",
       "    </tr>\n",
       "  </tbody>\n",
       "</table>\n",
       "</div>"
      ],
      "text/plain": [
       "                                            Mean           Std\n",
       "Mean absolute error                 3.314000e+03  5.233708e+02\n",
       "Mean squared error                  2.755289e+07  8.079144e+06\n",
       "Root mean squared error             5.211117e+03  7.718350e+02\n",
       "R² (%)                              5.125250e+01  6.531277e+00\n",
       "Adjusted R² (%)                     5.116581e+01  6.527331e+00\n",
       "Mean absolute percentage error (%)  3.852243e+02  1.616341e+02"
      ]
     },
     "metadata": {},
     "output_type": "display_data"
    }
   ],
   "source": [
    "# Viral, subset of 10000\n",
    "#try 50000!\n",
    "SVReg(x, y_viral, Replicates=replicates)"
   ]
  },
  {
   "cell_type": "code",
   "execution_count": null,
   "metadata": {},
   "outputs": [],
   "source": [
    "# PSBA, subset of 10000\n",
    "SVReg(x, y_psba, Replicates=replicates)"
   ]
  },
  {
   "cell_type": "markdown",
   "metadata": {},
   "source": [
    "### 5.3 Dimension reduction\n",
    "#### 5.3.1 Principal component analysis"
   ]
  },
  {
   "cell_type": "code",
   "execution_count": null,
   "metadata": {},
   "outputs": [],
   "source": [
    "# Project features\n",
    "pca = PCA(n_components=15)\n",
    "x_PCA = pd.DataFrame(pca.fit_transform(x))"
   ]
  },
  {
   "cell_type": "code",
   "execution_count": null,
   "metadata": {},
   "outputs": [],
   "source": [
    "# Viral, subset of 10000\n",
    "SVReg(x_PCA, y_viral, Replicates=replicates)"
   ]
  },
  {
   "cell_type": "code",
   "execution_count": null,
   "metadata": {},
   "outputs": [],
   "source": [
    "# PSBA, subset of 10000\n",
    "SVReg(x_PCA, y_psba, Replicates=replicates)"
   ]
  }
 ],
 "metadata": {
  "kernelspec": {
   "display_name": "Python 3",
   "language": "python",
   "name": "python3"
  },
  "language_info": {
   "codemirror_mode": {
    "name": "ipython",
    "version": 3
   },
   "file_extension": ".py",
   "mimetype": "text/x-python",
   "name": "python",
   "nbconvert_exporter": "python",
   "pygments_lexer": "ipython3",
   "version": "3.8.5"
  }
 },
 "nbformat": 4,
 "nbformat_minor": 4
}
